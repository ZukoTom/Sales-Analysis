{
 "cells": [
  {
   "cell_type": "markdown",
   "metadata": {},
   "source": [
    "**Importation des données** <br/> données de https://s3-eu-west-1.amazonaws.com/static.oc-static.com/prod/courses/files/parcours-data-analyst/dataset_P4.zip"
   ]
  },
  {
   "cell_type": "code",
   "execution_count": 1,
   "metadata": {},
   "outputs": [],
   "source": [
    "#importation des librairies\n",
    "import pandas as pd\n",
    "import numpy as np\n",
    "from matplotlib import pyplot as plt\n",
    "import re\n",
    "import datetime as dt\n",
    "import statistics as st\n",
    "import math\n",
    "import seaborn as sns\n",
    "import statsmodels.api as sm\n",
    "from sklearn.metrics import r2_score\n",
    "from sklearn.linear_model import LinearRegression\n",
    "from scipy.stats import chi2_contingency, f_oneway"
   ]
  },
  {
   "cell_type": "code",
   "execution_count": 2,
   "metadata": {},
   "outputs": [],
   "source": [
    "#importation des données dans des dataframes\n",
    "trades_cl = pd.read_csv(\"trades_clean.csv\")\n",
    "clients = pd.read_csv(\"dataset_P4/customers.csv\")\n",
    "products = pd.read_csv(\"dataset_P4/products.csv\")\n",
    "transactions = pd.read_csv(\"dataset_P4/transactions.csv\")"
   ]
  },
  {
   "cell_type": "markdown",
   "metadata": {},
   "source": [
    "## Analyse de données"
   ]
  },
  {
   "cell_type": "code",
   "execution_count": 3,
   "metadata": {},
   "outputs": [
    {
     "data": {
      "text/html": [
       "<div>\n",
       "<style scoped>\n",
       "    .dataframe tbody tr th:only-of-type {\n",
       "        vertical-align: middle;\n",
       "    }\n",
       "\n",
       "    .dataframe tbody tr th {\n",
       "        vertical-align: top;\n",
       "    }\n",
       "\n",
       "    .dataframe thead th {\n",
       "        text-align: right;\n",
       "    }\n",
       "</style>\n",
       "<table border=\"1\" class=\"dataframe\">\n",
       "  <thead>\n",
       "    <tr style=\"text-align: right;\">\n",
       "      <th></th>\n",
       "      <th>client_id</th>\n",
       "      <th>sex</th>\n",
       "      <th>birth</th>\n",
       "    </tr>\n",
       "  </thead>\n",
       "  <tbody>\n",
       "    <tr>\n",
       "      <th>0</th>\n",
       "      <td>c_4410</td>\n",
       "      <td>f</td>\n",
       "      <td>1967</td>\n",
       "    </tr>\n",
       "    <tr>\n",
       "      <th>1</th>\n",
       "      <td>c_7839</td>\n",
       "      <td>f</td>\n",
       "      <td>1975</td>\n",
       "    </tr>\n",
       "    <tr>\n",
       "      <th>2</th>\n",
       "      <td>c_1699</td>\n",
       "      <td>f</td>\n",
       "      <td>1984</td>\n",
       "    </tr>\n",
       "    <tr>\n",
       "      <th>3</th>\n",
       "      <td>c_5961</td>\n",
       "      <td>f</td>\n",
       "      <td>1962</td>\n",
       "    </tr>\n",
       "    <tr>\n",
       "      <th>4</th>\n",
       "      <td>c_5320</td>\n",
       "      <td>m</td>\n",
       "      <td>1943</td>\n",
       "    </tr>\n",
       "  </tbody>\n",
       "</table>\n",
       "</div>"
      ],
      "text/plain": [
       "  client_id sex  birth\n",
       "0    c_4410   f   1967\n",
       "1    c_7839   f   1975\n",
       "2    c_1699   f   1984\n",
       "3    c_5961   f   1962\n",
       "4    c_5320   m   1943"
      ]
     },
     "execution_count": 3,
     "metadata": {},
     "output_type": "execute_result"
    }
   ],
   "source": [
    "clients.head()"
   ]
  },
  {
   "cell_type": "code",
   "execution_count": 4,
   "metadata": {},
   "outputs": [
    {
     "data": {
      "text/plain": [
       "<function matplotlib.pyplot.show(*args, **kw)>"
      ]
     },
     "execution_count": 4,
     "metadata": {},
     "output_type": "execute_result"
    },
    {
     "data": {
      "image/png": "[encoded data removed]",
      "text/plain": [
       "<Figure size 432x288 with 1 Axes>"
      ]
     },
     "metadata": {
      "needs_background": "light"
     },
     "output_type": "display_data"
    }
   ],
   "source": [
    "clients['age'] = 2022 - clients['birth']\n",
    "plt.hist(clients.age, edgecolor='k')\n",
    "plt.title(\"distribustion de l'âge des clients\")\n",
    "plt.ylabel('occurrence')\n",
    "plt.xlabel('age')\n",
    "plt.axvline(x=clients.age.mean(), label='mean', linewidth=2, color = 'y')\n",
    "plt.axvline(x=st.median(clients.age), label='median', linewidth=2, color = 'black')\n",
    "#plt.savefig(\"hist_age.png\")\n",
    "plt.legend()\n",
    "plt.show"
   ]
  },
  {
   "cell_type": "code",
   "execution_count": 5,
   "metadata": {},
   "outputs": [
    {
     "data": {
      "text/plain": [
       "(0.36100192847210094, 43.71912327496231, 18, 43)"
      ]
     },
     "execution_count": 5,
     "metadata": {},
     "output_type": "execute_result"
    }
   ],
   "source": [
    "clients.age.skew(), clients.age.mean(), st.mode(clients.age), st.median(clients.age)"
   ]
  },
  {
   "cell_type": "code",
   "execution_count": 6,
   "metadata": {},
   "outputs": [
    {
     "name": "stdout",
     "output_type": "stream",
     "text": [
      "la distribution de l'âge des clients est proche de  0 (0< 0.36 <0.5) et positive \n",
      "On observe qu'elle a une queue vers la droite et mode < median < mean\n",
      "et donc on a plus d'individus vers la gauche par rapport à la moyenne\n"
     ]
    }
   ],
   "source": [
    "print(f\"la distribution de l'âge des clients est proche de  0 (0< {clients.age.skew():0.2} <0.5) et positive \\\n",
    "\\nOn observe qu'elle a une queue vers la droite et mode < median < mean\\\n",
    "\\net donc on a plus d'individus vers la gauche par rapport à la moyenne\")"
   ]
  },
  {
   "cell_type": "code",
   "execution_count": 7,
   "metadata": {},
   "outputs": [
    {
     "data": {
      "text/plain": [
       "113.46052631578948"
      ]
     },
     "execution_count": 7,
     "metadata": {},
     "output_type": "execute_result"
    }
   ],
   "source": [
    "clients.groupby('age').count().mean()['client_id']"
   ]
  },
  {
   "cell_type": "code",
   "execution_count": 8,
   "metadata": {},
   "outputs": [
    {
     "data": {
      "text/plain": [
       "age\n",
       "18    440\n",
       "43    215\n",
       "34    207\n",
       "36    203\n",
       "44    199\n",
       "Name: client_id, dtype: int64"
      ]
     },
     "execution_count": 8,
     "metadata": {},
     "output_type": "execute_result"
    }
   ],
   "source": [
    "clients.groupby('age').count().sort_values('client_id', ascending=False)['client_id'][:5]"
   ]
  },
  {
   "cell_type": "markdown",
   "metadata": {},
   "source": [
    "#### **On observe 440 individus dans la catégorie clients qui ont 18 ans >> ~113 individus par catégorie en moyenne**. "
   ]
  },
  {
   "cell_type": "code",
   "execution_count": 9,
   "metadata": {},
   "outputs": [
    {
     "data": {
      "text/plain": [
       "count    8623.000000\n",
       "mean       43.719123\n",
       "std        16.919535\n",
       "min        18.000000\n",
       "25%        30.000000\n",
       "50%        43.000000\n",
       "75%        56.000000\n",
       "max        93.000000\n",
       "Name: age, dtype: float64"
      ]
     },
     "execution_count": 9,
     "metadata": {},
     "output_type": "execute_result"
    }
   ],
   "source": [
    "clients['age'].describe()"
   ]
  },
  {
   "cell_type": "code",
   "execution_count": 10,
   "metadata": {},
   "outputs": [],
   "source": [
    "clients['age_categ'] = pd.cut(clients['age'], bins=[0, 25, 60, float('Inf')], labels=['<=25', '25-60', '>60'])"
   ]
  },
  {
   "cell_type": "code",
   "execution_count": 11,
   "metadata": {},
   "outputs": [
    {
     "data": {
      "text/html": [
       "<div>\n",
       "<style scoped>\n",
       "    .dataframe tbody tr th:only-of-type {\n",
       "        vertical-align: middle;\n",
       "    }\n",
       "\n",
       "    .dataframe tbody tr th {\n",
       "        vertical-align: top;\n",
       "    }\n",
       "\n",
       "    .dataframe thead th {\n",
       "        text-align: right;\n",
       "    }\n",
       "</style>\n",
       "<table border=\"1\" class=\"dataframe\">\n",
       "  <thead>\n",
       "    <tr style=\"text-align: right;\">\n",
       "      <th></th>\n",
       "      <th>client_id</th>\n",
       "    </tr>\n",
       "    <tr>\n",
       "      <th>age_categ</th>\n",
       "      <th></th>\n",
       "    </tr>\n",
       "  </thead>\n",
       "  <tbody>\n",
       "    <tr>\n",
       "      <th>&lt;=25</th>\n",
       "      <td>1447</td>\n",
       "    </tr>\n",
       "    <tr>\n",
       "      <th>25-60</th>\n",
       "      <td>5620</td>\n",
       "    </tr>\n",
       "    <tr>\n",
       "      <th>&gt;60</th>\n",
       "      <td>1556</td>\n",
       "    </tr>\n",
       "  </tbody>\n",
       "</table>\n",
       "</div>"
      ],
      "text/plain": [
       "           client_id\n",
       "age_categ           \n",
       "<=25            1447\n",
       "25-60           5620\n",
       ">60             1556"
      ]
     },
     "execution_count": 11,
     "metadata": {},
     "output_type": "execute_result"
    }
   ],
   "source": [
    "clients_df = clients.groupby( by = 'age_categ').agg({'client_id':'count'})\n",
    "clients_df"
   ]
  },
  {
   "cell_type": "code",
   "execution_count": 12,
   "metadata": {},
   "outputs": [
    {
     "data": {
      "image/png": "[encoded data removed]",
      "text/plain": [
       "<Figure size 432x288 with 1 Axes>"
      ]
     },
     "metadata": {},
     "output_type": "display_data"
    }
   ],
   "source": [
    "#part des classes d'age de clients\n",
    "labl = clients_df.index.unique() \n",
    "plt.pie(clients_df.client_id, labels = labl, autopct = '%.1f %%', pctdistance = 0.7)\n",
    "plt.title('customer category weight within total number of customers')\n",
    "#plt.savefig(\"age_of_customers.png\")\n",
    "plt.show()"
   ]
  },
  {
   "cell_type": "code",
   "execution_count": 13,
   "metadata": {},
   "outputs": [
    {
     "data": {
      "image/png": "[encoded data removed]",
      "text/plain": [
       "<Figure size 432x288 with 1 Axes>"
      ]
     },
     "metadata": {},
     "output_type": "display_data"
    }
   ],
   "source": [
    "#proportion Homme / Femme dans l'échantillon : légère majorité de Femmes\n",
    "la = clients.sex.unique()\n",
    "plt.pie(clients.groupby('sex').count()['client_id'], labels = la, autopct = '%.1f %%', pctdistance = 0.7)\n",
    "plt.title('proportion Homme \"m\"/ Femme \"f\"')\n",
    "#plt.savefig(\"male_female_ratio.png\")\n",
    "plt.show()"
   ]
  },
  {
   "cell_type": "code",
   "execution_count": 14,
   "metadata": {},
   "outputs": [],
   "source": [
    "# on drop le produit 'T_0'\n",
    "products.drop(products[products['id_prod'] == 'T_0' ].index, inplace = True)"
   ]
  },
  {
   "cell_type": "code",
   "execution_count": 15,
   "metadata": {},
   "outputs": [
    {
     "data": {
      "text/html": [
       "<div>\n",
       "<style scoped>\n",
       "    .dataframe tbody tr th:only-of-type {\n",
       "        vertical-align: middle;\n",
       "    }\n",
       "\n",
       "    .dataframe tbody tr th {\n",
       "        vertical-align: top;\n",
       "    }\n",
       "\n",
       "    .dataframe thead th {\n",
       "        text-align: right;\n",
       "    }\n",
       "</style>\n",
       "<table border=\"1\" class=\"dataframe\">\n",
       "  <thead>\n",
       "    <tr style=\"text-align: right;\">\n",
       "      <th></th>\n",
       "      <th>price</th>\n",
       "    </tr>\n",
       "    <tr>\n",
       "      <th>categ</th>\n",
       "      <th></th>\n",
       "    </tr>\n",
       "  </thead>\n",
       "  <tbody>\n",
       "    <tr>\n",
       "      <th>0</th>\n",
       "      <td>11.732795</td>\n",
       "    </tr>\n",
       "    <tr>\n",
       "      <th>1</th>\n",
       "      <td>25.531421</td>\n",
       "    </tr>\n",
       "    <tr>\n",
       "      <th>2</th>\n",
       "      <td>108.354686</td>\n",
       "    </tr>\n",
       "  </tbody>\n",
       "</table>\n",
       "</div>"
      ],
      "text/plain": [
       "            price\n",
       "categ            \n",
       "0       11.732795\n",
       "1       25.531421\n",
       "2      108.354686"
      ]
     },
     "execution_count": 15,
     "metadata": {},
     "output_type": "execute_result"
    }
   ],
   "source": [
    "#prix moyen par catégorie : on RQ que la catégorie a une moyenne élevée pour des livres\n",
    "products.groupby('categ').mean()"
   ]
  },
  {
   "cell_type": "code",
   "execution_count": 16,
   "metadata": {},
   "outputs": [
    {
     "data": {
      "text/html": [
       "<div>\n",
       "<style scoped>\n",
       "    .dataframe tbody tr th:only-of-type {\n",
       "        vertical-align: middle;\n",
       "    }\n",
       "\n",
       "    .dataframe tbody tr th {\n",
       "        vertical-align: top;\n",
       "    }\n",
       "\n",
       "    .dataframe thead th {\n",
       "        text-align: right;\n",
       "    }\n",
       "</style>\n",
       "<table border=\"1\" class=\"dataframe\">\n",
       "  <thead>\n",
       "    <tr style=\"text-align: right;\">\n",
       "      <th></th>\n",
       "      <th>id_prod</th>\n",
       "      <th>price</th>\n",
       "    </tr>\n",
       "    <tr>\n",
       "      <th>categ</th>\n",
       "      <th></th>\n",
       "      <th></th>\n",
       "    </tr>\n",
       "  </thead>\n",
       "  <tbody>\n",
       "    <tr>\n",
       "      <th>0</th>\n",
       "      <td>2308</td>\n",
       "      <td>2308</td>\n",
       "    </tr>\n",
       "    <tr>\n",
       "      <th>1</th>\n",
       "      <td>739</td>\n",
       "      <td>739</td>\n",
       "    </tr>\n",
       "    <tr>\n",
       "      <th>2</th>\n",
       "      <td>239</td>\n",
       "      <td>239</td>\n",
       "    </tr>\n",
       "  </tbody>\n",
       "</table>\n",
       "</div>"
      ],
      "text/plain": [
       "       id_prod  price\n",
       "categ                \n",
       "0         2308   2308\n",
       "1          739    739\n",
       "2          239    239"
      ]
     },
     "execution_count": 16,
     "metadata": {},
     "output_type": "execute_result"
    }
   ],
   "source": [
    "products.groupby('categ').count()"
   ]
  },
  {
   "cell_type": "code",
   "execution_count": 17,
   "metadata": {},
   "outputs": [
    {
     "data": {
      "text/plain": [
       "<function matplotlib.pyplot.show(*args, **kw)>"
      ]
     },
     "execution_count": 17,
     "metadata": {},
     "output_type": "execute_result"
    },
    {
     "data": {
      "image/png": "[encoded data removed]",
      "text/plain": [
       "<Figure size 432x288 with 1 Axes>"
      ]
     },
     "metadata": {},
     "output_type": "display_data"
    }
   ],
   "source": [
    "lab = products.categ.unique()\n",
    "plt.pie(products.groupby('categ').count()['id_prod'], labels = lab, autopct = '%.1f %%', pctdistance = 0.7)\n",
    "plt.title('relative weight in terms of sales number')\n",
    "#plt.savefig(\"category_weight_count.png\")\n",
    "plt.show"
   ]
  },
  {
   "cell_type": "code",
   "execution_count": 18,
   "metadata": {},
   "outputs": [
    {
     "data": {
      "text/html": [
       "<div>\n",
       "<style scoped>\n",
       "    .dataframe tbody tr th:only-of-type {\n",
       "        vertical-align: middle;\n",
       "    }\n",
       "\n",
       "    .dataframe tbody tr th {\n",
       "        vertical-align: top;\n",
       "    }\n",
       "\n",
       "    .dataframe thead th {\n",
       "        text-align: right;\n",
       "    }\n",
       "</style>\n",
       "<table border=\"1\" class=\"dataframe\">\n",
       "  <thead>\n",
       "    <tr style=\"text-align: right;\">\n",
       "      <th></th>\n",
       "      <th>price</th>\n",
       "    </tr>\n",
       "    <tr>\n",
       "      <th>categ</th>\n",
       "      <th></th>\n",
       "    </tr>\n",
       "  </thead>\n",
       "  <tbody>\n",
       "    <tr>\n",
       "      <th>0</th>\n",
       "      <td>27079.29</td>\n",
       "    </tr>\n",
       "    <tr>\n",
       "      <th>1</th>\n",
       "      <td>18867.72</td>\n",
       "    </tr>\n",
       "    <tr>\n",
       "      <th>2</th>\n",
       "      <td>25896.77</td>\n",
       "    </tr>\n",
       "  </tbody>\n",
       "</table>\n",
       "</div>"
      ],
      "text/plain": [
       "          price\n",
       "categ          \n",
       "0      27079.29\n",
       "1      18867.72\n",
       "2      25896.77"
      ]
     },
     "execution_count": 18,
     "metadata": {},
     "output_type": "execute_result"
    }
   ],
   "source": [
    "# ventes totales par catégories\n",
    "products.groupby('categ').sum()"
   ]
  },
  {
   "cell_type": "code",
   "execution_count": 19,
   "metadata": {},
   "outputs": [
    {
     "data": {
      "text/plain": [
       "<function matplotlib.pyplot.show(*args, **kw)>"
      ]
     },
     "execution_count": 19,
     "metadata": {},
     "output_type": "execute_result"
    },
    {
     "data": {
      "image/png": "[encoded data removed]",
      "text/plain": [
       "<Figure size 432x288 with 1 Axes>"
      ]
     },
     "metadata": {},
     "output_type": "display_data"
    }
   ],
   "source": [
    "#part des categories de produits dans les ventes totales\n",
    "labe = products.categ.unique()\n",
    "plt.pie(products.groupby('categ').sum()['price'], labels = labe, autopct = '%.1f %%', pctdistance = 0.7)\n",
    "plt.title('relative weight in terms of sales amounts')\n",
    "#plt.savefig(\"categ_weight_sales.png\")\n",
    "plt.show"
   ]
  },
  {
   "cell_type": "markdown",
   "metadata": {},
   "source": [
    "### On a identifié des données manquantes en Octobre peut être à cause d'un problème d'intégration dans la base de données ou bien de collecte, mais on choisit de conserver les données partielles d'Octobre pour un certain nombre d'analyses car les données sont précieuses"
   ]
  },
  {
   "cell_type": "code",
   "execution_count": 20,
   "metadata": {},
   "outputs": [
    {
     "name": "stdout",
     "output_type": "stream",
     "text": [
      "<class 'pandas.core.frame.DataFrame'>\n",
      "RangeIndex: 336816 entries, 0 to 336815\n",
      "Data columns (total 16 columns):\n",
      " #   Column      Non-Null Count   Dtype  \n",
      "---  ------      --------------   -----  \n",
      " 0   Unnamed: 0  336816 non-null  int64  \n",
      " 1   id_prod     336816 non-null  object \n",
      " 2   date        336816 non-null  object \n",
      " 3   session_id  336816 non-null  object \n",
      " 4   client_id   336816 non-null  object \n",
      " 5   time        336816 non-null  object \n",
      " 6   year        336816 non-null  int64  \n",
      " 7   month       336816 non-null  int64  \n",
      " 8   hour        336816 non-null  int64  \n",
      " 9   price       336816 non-null  float64\n",
      " 10  categ       336816 non-null  float64\n",
      " 11  categ_2     336816 non-null  int64  \n",
      " 12  sex         336816 non-null  object \n",
      " 13  birth       336816 non-null  int64  \n",
      " 14  age         336816 non-null  int64  \n",
      " 15  age_categ   336816 non-null  object \n",
      "dtypes: float64(2), int64(7), object(7)\n",
      "memory usage: 41.1+ MB\n"
     ]
    }
   ],
   "source": [
    "#Le split en 2 script pose des problèmes lorsqu'on ré_importe le csv nettoyé, on les corrige\n",
    "trades_cl.info()"
   ]
  },
  {
   "cell_type": "markdown",
   "metadata": {},
   "source": [
    "## On retravaille le csv nettoyé car des problèmes apparaissent"
   ]
  },
  {
   "cell_type": "code",
   "execution_count": 21,
   "metadata": {},
   "outputs": [],
   "source": [
    "trades_cl.drop(['Unnamed: 0'], axis = 1, inplace = True)"
   ]
  },
  {
   "cell_type": "code",
   "execution_count": 22,
   "metadata": {},
   "outputs": [],
   "source": [
    "trades_cl['date'] = pd.to_datetime(trades_cl['date'], \n",
    "                                        format='%Y-%m-%d',\n",
    "                                     infer_datetime_format=True, \n",
    "                                     errors='coerce')"
   ]
  },
  {
   "cell_type": "code",
   "execution_count": 23,
   "metadata": {},
   "outputs": [
    {
     "data": {
      "text/html": [
       "<div>\n",
       "<style scoped>\n",
       "    .dataframe tbody tr th:only-of-type {\n",
       "        vertical-align: middle;\n",
       "    }\n",
       "\n",
       "    .dataframe tbody tr th {\n",
       "        vertical-align: top;\n",
       "    }\n",
       "\n",
       "    .dataframe thead th {\n",
       "        text-align: right;\n",
       "    }\n",
       "</style>\n",
       "<table border=\"1\" class=\"dataframe\">\n",
       "  <thead>\n",
       "    <tr style=\"text-align: right;\">\n",
       "      <th></th>\n",
       "      <th>id_prod</th>\n",
       "      <th>date</th>\n",
       "      <th>session_id</th>\n",
       "      <th>client_id</th>\n",
       "      <th>time</th>\n",
       "      <th>year</th>\n",
       "      <th>month</th>\n",
       "      <th>hour</th>\n",
       "      <th>price</th>\n",
       "      <th>categ</th>\n",
       "      <th>categ_2</th>\n",
       "      <th>sex</th>\n",
       "      <th>birth</th>\n",
       "      <th>age</th>\n",
       "      <th>age_categ</th>\n",
       "    </tr>\n",
       "  </thead>\n",
       "  <tbody>\n",
       "  </tbody>\n",
       "</table>\n",
       "</div>"
      ],
      "text/plain": [
       "Empty DataFrame\n",
       "Columns: [id_prod, date, session_id, client_id, time, year, month, hour, price, categ, categ_2, sex, birth, age, age_categ]\n",
       "Index: []"
      ]
     },
     "execution_count": 23,
     "metadata": {},
     "output_type": "execute_result"
    }
   ],
   "source": [
    "#test\n",
    "trades_cl.loc[trades_cl['age'].isnull() | trades_cl['price'].isnull()]"
   ]
  },
  {
   "cell_type": "markdown",
   "metadata": {},
   "source": [
    "### analyse temporelle : CA (hypothèse les ventes totales reflètent le CA)"
   ]
  },
  {
   "cell_type": "code",
   "execution_count": 24,
   "metadata": {},
   "outputs": [
    {
     "data": {
      "text/html": [
       "<div>\n",
       "<style scoped>\n",
       "    .dataframe tbody tr th:only-of-type {\n",
       "        vertical-align: middle;\n",
       "    }\n",
       "\n",
       "    .dataframe tbody tr th {\n",
       "        vertical-align: top;\n",
       "    }\n",
       "\n",
       "    .dataframe thead tr th {\n",
       "        text-align: left;\n",
       "    }\n",
       "\n",
       "    .dataframe thead tr:last-of-type th {\n",
       "        text-align: right;\n",
       "    }\n",
       "</style>\n",
       "<table border=\"1\" class=\"dataframe\">\n",
       "  <thead>\n",
       "    <tr>\n",
       "      <th></th>\n",
       "      <th></th>\n",
       "      <th colspan=\"2\" halign=\"left\">price</th>\n",
       "    </tr>\n",
       "    <tr>\n",
       "      <th></th>\n",
       "      <th></th>\n",
       "      <th>sum</th>\n",
       "      <th>count</th>\n",
       "    </tr>\n",
       "    <tr>\n",
       "      <th>year</th>\n",
       "      <th>month</th>\n",
       "      <th></th>\n",
       "      <th></th>\n",
       "    </tr>\n",
       "  </thead>\n",
       "  <tbody>\n",
       "    <tr>\n",
       "      <th rowspan=\"10\" valign=\"top\">2021</th>\n",
       "      <th>3</th>\n",
       "      <td>479417.625152</td>\n",
       "      <td>28568</td>\n",
       "    </tr>\n",
       "    <tr>\n",
       "      <th>4</th>\n",
       "      <td>473144.979125</td>\n",
       "      <td>28415</td>\n",
       "    </tr>\n",
       "    <tr>\n",
       "      <th>5</th>\n",
       "      <td>489461.812357</td>\n",
       "      <td>28245</td>\n",
       "    </tr>\n",
       "    <tr>\n",
       "      <th>6</th>\n",
       "      <td>481340.069562</td>\n",
       "      <td>26819</td>\n",
       "    </tr>\n",
       "    <tr>\n",
       "      <th>7</th>\n",
       "      <td>480945.591178</td>\n",
       "      <td>24716</td>\n",
       "    </tr>\n",
       "    <tr>\n",
       "      <th>8</th>\n",
       "      <td>479410.785152</td>\n",
       "      <td>25619</td>\n",
       "    </tr>\n",
       "    <tr>\n",
       "      <th>9</th>\n",
       "      <td>502912.073535</td>\n",
       "      <td>33266</td>\n",
       "    </tr>\n",
       "    <tr>\n",
       "      <th>10</th>\n",
       "      <td>319242.089562</td>\n",
       "      <td>21584</td>\n",
       "    </tr>\n",
       "    <tr>\n",
       "      <th>11</th>\n",
       "      <td>513007.497946</td>\n",
       "      <td>28277</td>\n",
       "    </tr>\n",
       "    <tr>\n",
       "      <th>12</th>\n",
       "      <td>523019.809562</td>\n",
       "      <td>32424</td>\n",
       "    </tr>\n",
       "    <tr>\n",
       "      <th rowspan=\"2\" valign=\"top\">2022</th>\n",
       "      <th>1</th>\n",
       "      <td>523013.973973</td>\n",
       "      <td>29316</td>\n",
       "    </tr>\n",
       "    <tr>\n",
       "      <th>2</th>\n",
       "      <td>532869.940741</td>\n",
       "      <td>29567</td>\n",
       "    </tr>\n",
       "  </tbody>\n",
       "</table>\n",
       "</div>"
      ],
      "text/plain": [
       "                    price       \n",
       "                      sum  count\n",
       "year month                      \n",
       "2021 3      479417.625152  28568\n",
       "     4      473144.979125  28415\n",
       "     5      489461.812357  28245\n",
       "     6      481340.069562  26819\n",
       "     7      480945.591178  24716\n",
       "     8      479410.785152  25619\n",
       "     9      502912.073535  33266\n",
       "     10     319242.089562  21584\n",
       "     11     513007.497946  28277\n",
       "     12     523019.809562  32424\n",
       "2022 1      523013.973973  29316\n",
       "     2      532869.940741  29567"
      ]
     },
     "execution_count": 24,
     "metadata": {},
     "output_type": "execute_result"
    }
   ],
   "source": [
    "#on aggrège en utilisant un dictionnaire\n",
    "year_df = trades_cl.groupby( by = ['year', 'month']).agg({'price':['sum', 'count']})\n",
    "year_df.head(20)"
   ]
  },
  {
   "cell_type": "code",
   "execution_count": 25,
   "metadata": {},
   "outputs": [
    {
     "data": {
      "text/plain": [
       "(array([ 0,  1,  2,  3,  4,  5,  6,  7,  8,  9, 10, 11]),\n",
       " <a list of 12 Text xticklabel objects>)"
      ]
     },
     "execution_count": 25,
     "metadata": {},
     "output_type": "execute_result"
    },
    {
     "data": {
      "image/png": "[encoded data removed]",
      "text/plain": [
       "<Figure size 432x288 with 1 Axes>"
      ]
     },
     "metadata": {
      "needs_background": "light"
     },
     "output_type": "display_data"
    }
   ],
   "source": [
    "# analyse CA\n",
    "year_df2 = trades_cl.groupby( by = ['year', 'month']).agg({'price':'sum'})\n",
    "year_df2['ca'] = np.cumsum(year_df2.price)\n",
    "year_df2['ca'].plot(kind = 'bar')\n",
    "plt.title('évolution du CA, données (données partielles en Oct)')\n",
    "#plt.savefig(\"ev_CA.png\")\n",
    "plt.xticks(rotation=80)"
   ]
  },
  {
   "cell_type": "code",
   "execution_count": 26,
   "metadata": {},
   "outputs": [
    {
     "data": {
      "text/plain": [
       "(array([ 0,  1,  2,  3,  4,  5,  6,  7,  8,  9, 10, 11]),\n",
       " <a list of 12 Text xticklabel objects>)"
      ]
     },
     "execution_count": 26,
     "metadata": {},
     "output_type": "execute_result"
    },
    {
     "data": {
      "image/png": "[encoded data removed]",
      "text/plain": [
       "<Figure size 432x288 with 1 Axes>"
      ]
     },
     "metadata": {
      "needs_background": "light"
     },
     "output_type": "display_data"
    }
   ],
   "source": [
    "# la somme de toutes les ventes reflète le CA, d'o`u : \n",
    "year_df.plot(kind = 'bar')\n",
    "plt.title(\"sales evolution, partial data in October\")\n",
    "#year_df2[['ca']]#['ca'].plot(kind = 'bar')\n",
    "plt.xticks(rotation=80)"
   ]
  },
  {
   "cell_type": "code",
   "execution_count": 27,
   "metadata": {},
   "outputs": [],
   "source": [
    "#A quelle heure de la journée le libraire fait-il plus de ventes?\n",
    "hours = [ hour for hour, df in trades_cl.groupby('hour')]"
   ]
  },
  {
   "cell_type": "code",
   "execution_count": 28,
   "metadata": {
    "scrolled": true
   },
   "outputs": [
    {
     "data": {
      "image/png": "[encoded data removed]",
      "text/plain": [
       "<Figure size 432x288 with 1 Axes>"
      ]
     },
     "metadata": {
      "needs_background": "light"
     },
     "output_type": "display_data"
    }
   ],
   "source": [
    "plt.plot(hours, trades_cl.groupby('hour').agg({'price':'count'})/365)\n",
    "plt.style.use('ggplot')\n",
    "plt.title(\"average number of sales over time in a day\")\n",
    "plt.yticks(np.arange(0, 50, step=5))\n",
    "plt.xticks(np.arange(0, 25, step=3))\n",
    "#plt.savefig(\"sales_over_time.png\")\n",
    "plt.show()"
   ]
  },
  {
   "cell_type": "code",
   "execution_count": 29,
   "metadata": {},
   "outputs": [
    {
     "data": {
      "image/png": "[encoded data removed]",
      "text/plain": [
       "<Figure size 432x288 with 1 Axes>"
      ]
     },
     "metadata": {},
     "output_type": "display_data"
    }
   ],
   "source": [
    "plt.plot(hours, trades_cl.groupby('hour').agg({'price':'count'})/365)\n",
    "plt.style.use('ggplot')\n",
    "plt.title(\"average number of sales over time in a day\")\n",
    "plt.show()"
   ]
  },
  {
   "cell_type": "markdown",
   "metadata": {},
   "source": [
    "=>Le libraire vends en moyenne entre 38 et 40 livres par heure sur la base des données annuelles"
   ]
  },
  {
   "cell_type": "code",
   "execution_count": null,
   "metadata": {},
   "outputs": [],
   "source": []
  },
  {
   "cell_type": "code",
   "execution_count": null,
   "metadata": {},
   "outputs": [],
   "source": []
  },
  {
   "cell_type": "code",
   "execution_count": null,
   "metadata": {},
   "outputs": [],
   "source": []
  },
  {
   "cell_type": "code",
   "execution_count": null,
   "metadata": {},
   "outputs": [],
   "source": []
  },
  {
   "cell_type": "code",
   "execution_count": null,
   "metadata": {},
   "outputs": [],
   "source": []
  },
  {
   "cell_type": "code",
   "execution_count": null,
   "metadata": {},
   "outputs": [],
   "source": []
  },
  {
   "cell_type": "code",
   "execution_count": null,
   "metadata": {},
   "outputs": [],
   "source": []
  },
  {
   "cell_type": "code",
   "execution_count": 30,
   "metadata": {
    "scrolled": true
   },
   "outputs": [
    {
     "data": {
      "image/png": "[encoded data removed]",
      "text/plain": [
       "<Figure size 432x288 with 1 Axes>"
      ]
     },
     "metadata": {},
     "output_type": "display_data"
    }
   ],
   "source": [
    "#analyse bivariée var cat / var quant\n",
    "trades_cl[['sex', 'categ', 'price']].boxplot(column = 'price', by=['categ'])\n",
    "plt.title(\"dispersion des prix des articles faisant l'objet d'achat selon categorie\")\n",
    "plt.savefig(\"prix_categ.png\")\n",
    "plt.show()"
   ]
  },
  {
   "cell_type": "code",
   "execution_count": null,
   "metadata": {},
   "outputs": [],
   "source": []
  },
  {
   "cell_type": "code",
   "execution_count": 31,
   "metadata": {},
   "outputs": [
    {
     "data": {
      "image/png": "[encoded data removed]",
      "text/plain": [
       "<Figure size 432x288 with 1 Axes>"
      ]
     },
     "metadata": {},
     "output_type": "display_data"
    }
   ],
   "source": [
    "#On fait des boxplot pour comparer la dispersion des prix des articles achetés\n",
    "box_f = trades_cl.loc[trades_cl['sex'] == 'f', 'price'].dropna().values\n",
    "box_m = trades_cl.loc[trades_cl['sex'] == 'm', 'price'].dropna().values\n",
    "plt.boxplot([box_f, box_m], labels=['F', 'M'],showmeans=True)\n",
    "plt.title('dispersion des prix des articles selon le sexe des clients')\n",
    "#plt.savefig(\"prix_sexe.png\")\n",
    "plt.show()"
   ]
  },
  {
   "cell_type": "markdown",
   "metadata": {},
   "source": [
    "=> On observe pas de différence de dispersion des sommes dépensées par article selon le sexe et ***énormément*** d'outliers"
   ]
  },
  {
   "cell_type": "code",
   "execution_count": 32,
   "metadata": {},
   "outputs": [
    {
     "data": {
      "image/png": "[encoded data removed]",
      "text/plain": [
       "<Figure size 432x288 with 1 Axes>"
      ]
     },
     "metadata": {},
     "output_type": "display_data"
    }
   ],
   "source": [
    "#Ici on choisit d'exclure les outliers que l'on a déjà représenté dans le graphique précédent\n",
    "sns.boxplot(x = 'categ', y = 'price', hue = 'sex', data = trades_cl[['client_id', 'categ', 'sex', 'price']],\\\n",
    "            width = 0.8,  showfliers=False, showmeans=True)\n",
    "plt.title('distribution du prix des articles achetés selon la catégorie')\n",
    "#plt.savefig(\"prix_categ_sex.png\")\n",
    "plt.show()"
   ]
  },
  {
   "cell_type": "code",
   "execution_count": 33,
   "metadata": {},
   "outputs": [
    {
     "name": "stdout",
     "output_type": "stream",
     "text": [
      "297344.8074441619 0.0\n"
     ]
    }
   ],
   "source": [
    "#ANOVA : relation entre categorie de produit et prix\n",
    "f_va, p_va = f_oneway(trades_cl.categ, trades_cl.price)\n",
    "print(f_va, p_va)"
   ]
  },
  {
   "cell_type": "markdown",
   "metadata": {},
   "source": [
    "=> Les prix dépendent de la catégorie de produit (p-value = 0)"
   ]
  },
  {
   "cell_type": "code",
   "execution_count": 34,
   "metadata": {},
   "outputs": [
    {
     "data": {
      "image/png": "[encoded data removed]",
      "text/plain": [
       "<Figure size 432x288 with 1 Axes>"
      ]
     },
     "metadata": {},
     "output_type": "display_data"
    }
   ],
   "source": [
    "#On ne represente pas les outliers car ils sont bcp trop nombreux\n",
    "sns.boxplot(x = 'age_categ', y = 'price', hue = 'sex', data = trades_cl[['sex', 'age_categ', 'price']],\\\n",
    "            order=[\"<=25\",\"25-60\",\">60\"],width = 0.8, showfliers=False, showmeans=True)\n",
    "plt.title(\"distribution du prix des articles achetés selon l'age\")\n",
    "#plt.savefig(\"distribution du prix des articles achetés selon l'age.png\")\n",
    "plt.show()"
   ]
  },
  {
   "cell_type": "markdown",
   "metadata": {},
   "source": [
    "#### => Il n'y a vraiment pas de différence de prix des article achetés selon le sexe, même en incluant une analyse des différentes catégories\n",
    "=> Il y a une différence de prix des articles achetés selon la tranche d'âge mais attention la tranche 25-60 comporte beaucoup plus d'individus  "
   ]
  },
  {
   "cell_type": "code",
   "execution_count": null,
   "metadata": {},
   "outputs": [],
   "source": []
  },
  {
   "cell_type": "code",
   "execution_count": null,
   "metadata": {},
   "outputs": [],
   "source": []
  },
  {
   "cell_type": "markdown",
   "metadata": {},
   "source": [
    "##### => On a des transactions dont le prix est >= 200. Elles n'ont pas l'air suspectes"
   ]
  },
  {
   "cell_type": "code",
   "execution_count": 35,
   "metadata": {},
   "outputs": [
    {
     "data": {
      "text/html": [
       "<div>\n",
       "<style scoped>\n",
       "    .dataframe tbody tr th:only-of-type {\n",
       "        vertical-align: middle;\n",
       "    }\n",
       "\n",
       "    .dataframe tbody tr th {\n",
       "        vertical-align: top;\n",
       "    }\n",
       "\n",
       "    .dataframe thead th {\n",
       "        text-align: right;\n",
       "    }\n",
       "</style>\n",
       "<table border=\"1\" class=\"dataframe\">\n",
       "  <thead>\n",
       "    <tr style=\"text-align: right;\">\n",
       "      <th></th>\n",
       "      <th>id_prod</th>\n",
       "      <th>price</th>\n",
       "      <th>categ</th>\n",
       "    </tr>\n",
       "  </thead>\n",
       "  <tbody>\n",
       "    <tr>\n",
       "      <th>10</th>\n",
       "      <td>2_228</td>\n",
       "      <td>225.17</td>\n",
       "      <td>2</td>\n",
       "    </tr>\n",
       "    <tr>\n",
       "      <th>95</th>\n",
       "      <td>2_128</td>\n",
       "      <td>201.74</td>\n",
       "      <td>2</td>\n",
       "    </tr>\n",
       "    <tr>\n",
       "      <th>394</th>\n",
       "      <td>2_158</td>\n",
       "      <td>247.22</td>\n",
       "      <td>2</td>\n",
       "    </tr>\n",
       "    <tr>\n",
       "      <th>724</th>\n",
       "      <td>2_76</td>\n",
       "      <td>254.44</td>\n",
       "      <td>2</td>\n",
       "    </tr>\n",
       "    <tr>\n",
       "      <th>786</th>\n",
       "      <td>2_40</td>\n",
       "      <td>228.11</td>\n",
       "      <td>2</td>\n",
       "    </tr>\n",
       "  </tbody>\n",
       "</table>\n",
       "</div>"
      ],
      "text/plain": [
       "    id_prod   price  categ\n",
       "10    2_228  225.17      2\n",
       "95    2_128  201.74      2\n",
       "394   2_158  247.22      2\n",
       "724    2_76  254.44      2\n",
       "786    2_40  228.11      2"
      ]
     },
     "execution_count": 35,
     "metadata": {},
     "output_type": "execute_result"
    }
   ],
   "source": [
    "products.loc[products['price'] >= 200 ].head()"
   ]
  },
  {
   "cell_type": "code",
   "execution_count": 36,
   "metadata": {},
   "outputs": [
    {
     "data": {
      "text/plain": [
       "(array(['2_228', '2_128', '2_158', '2_76', '2_40', '2_2', '2_211', '2_167',\n",
       "        '2_87', '2_4', '2_125', '2_3', '2_166', '2_30', '2_11'],\n",
       "       dtype=object),\n",
       " 15)"
      ]
     },
     "execution_count": 36,
     "metadata": {},
     "output_type": "execute_result"
    }
   ],
   "source": [
    "products.loc[products['price'] >= 200, 'id_prod'].unique(), len(products.loc[products['price'] >= 200, 'id_prod'].unique())"
   ]
  },
  {
   "cell_type": "markdown",
   "metadata": {},
   "source": [
    "**=> On a 15 produits (livres) dont le prix est >= 200 €**"
   ]
  },
  {
   "cell_type": "code",
   "execution_count": null,
   "metadata": {},
   "outputs": [],
   "source": []
  },
  {
   "cell_type": "markdown",
   "metadata": {},
   "source": [
    "### Courbe Lorenz"
   ]
  },
  {
   "cell_type": "code",
   "execution_count": 37,
   "metadata": {},
   "outputs": [
    {
     "data": {
      "image/png": "[encoded data removed]",
      "text/plain": [
       "<Figure size 432x288 with 1 Axes>"
      ]
     },
     "metadata": {},
     "output_type": "display_data"
    },
    {
     "data": {
      "text/plain": [
       "0.39210252514328736"
      ]
     },
     "execution_count": 37,
     "metadata": {},
     "output_type": "execute_result"
    }
   ],
   "source": [
    "# On definit la variable de l'axe des ordonnées\n",
    "price_var = trades_cl['price'].copy().sort_values( ascending=True)\n",
    "price_var.dropna(inplace = True)\n",
    "pr = price_var.values\n",
    "n = len(pr)\n",
    "\n",
    "lorenz = np.cumsum(np.sort(pr)) / pr.sum()\n",
    "lorenz = np.append([0],lorenz) # La courbe de Lorenz commence à 0\n",
    "\n",
    "#On definit la première bissectrice\n",
    "plt.plot([0,1], [0,1])\n",
    "\n",
    "# On definit la var de l'axe des abcisses\n",
    "xaxis = np.linspace(0-1/n,1+1/n,n+1) #Il y a un segment de taille n pour chaque individu, plus 1 segment supplémentaire d'ordonnée 0. Le premier segment commence à 0-1/n, et le dernier termine à 1+1/n.\n",
    "plt.plot(xaxis, lorenz, drawstyle='steps-post')\n",
    "\n",
    "#tracé bissectrice\n",
    "plt.plot([0,1], [0,1])\n",
    "#plt.savefig(\"lorenz_gini.png\")\n",
    "plt.title('Courbe de Lorenz : contribution des produits au CA')\n",
    "plt.show()\n",
    "\n",
    "AUC = (lorenz.sum() -lorenz[-1]/2 -lorenz[0]/2)/n # Surface sous la courbe de Lorenz. Le premier segment (lorenz[0]) est à moitié en dessous de 0, on le coupe donc en 2, on fait de même pour le dernier segment lorenz[-1] qui est à moitié au dessus de 1.\n",
    "S = 0.5 - AUC # surface entre la première bissectrice et la courbe de Lorenz\n",
    "gini = 2*S\n",
    "gini"
   ]
  },
  {
   "cell_type": "markdown",
   "metadata": {},
   "source": [
    "=> Les ventes de produits ayant des prix élevés concentrent une grande part de la contribution au CA)"
   ]
  },
  {
   "cell_type": "markdown",
   "metadata": {},
   "source": [
    "## MISSION 3"
   ]
  },
  {
   "cell_type": "code",
   "execution_count": 38,
   "metadata": {},
   "outputs": [
    {
     "data": {
      "text/plain": [
       "(8600, 169194)"
      ]
     },
     "execution_count": 38,
     "metadata": {},
     "output_type": "execute_result"
    }
   ],
   "source": [
    "len(trades_cl.client_id.unique()), len(trades_cl.session_id.unique()), "
   ]
  },
  {
   "cell_type": "code",
   "execution_count": 39,
   "metadata": {},
   "outputs": [
    {
     "data": {
      "text/html": [
       "<div>\n",
       "<style scoped>\n",
       "    .dataframe tbody tr th:only-of-type {\n",
       "        vertical-align: middle;\n",
       "    }\n",
       "\n",
       "    .dataframe tbody tr th {\n",
       "        vertical-align: top;\n",
       "    }\n",
       "\n",
       "    .dataframe thead th {\n",
       "        text-align: right;\n",
       "    }\n",
       "</style>\n",
       "<table border=\"1\" class=\"dataframe\">\n",
       "  <thead>\n",
       "    <tr style=\"text-align: right;\">\n",
       "      <th></th>\n",
       "      <th>price</th>\n",
       "    </tr>\n",
       "    <tr>\n",
       "      <th>client_id</th>\n",
       "      <th></th>\n",
       "    </tr>\n",
       "  </thead>\n",
       "  <tbody>\n",
       "    <tr>\n",
       "      <th>c_1</th>\n",
       "      <td>300.65</td>\n",
       "    </tr>\n",
       "    <tr>\n",
       "      <th>c_10</th>\n",
       "      <td>586.18</td>\n",
       "    </tr>\n",
       "    <tr>\n",
       "      <th>c_100</th>\n",
       "      <td>222.87</td>\n",
       "    </tr>\n",
       "    <tr>\n",
       "      <th>c_1000</th>\n",
       "      <td>980.02</td>\n",
       "    </tr>\n",
       "    <tr>\n",
       "      <th>c_1001</th>\n",
       "      <td>1102.45</td>\n",
       "    </tr>\n",
       "    <tr>\n",
       "      <th>...</th>\n",
       "      <td>...</td>\n",
       "    </tr>\n",
       "    <tr>\n",
       "      <th>c_995</th>\n",
       "      <td>119.08</td>\n",
       "    </tr>\n",
       "    <tr>\n",
       "      <th>c_996</th>\n",
       "      <td>739.60</td>\n",
       "    </tr>\n",
       "    <tr>\n",
       "      <th>c_997</th>\n",
       "      <td>572.89</td>\n",
       "    </tr>\n",
       "    <tr>\n",
       "      <th>c_998</th>\n",
       "      <td>1527.69</td>\n",
       "    </tr>\n",
       "    <tr>\n",
       "      <th>c_999</th>\n",
       "      <td>305.00</td>\n",
       "    </tr>\n",
       "  </tbody>\n",
       "</table>\n",
       "<p>8600 rows × 1 columns</p>\n",
       "</div>"
      ],
      "text/plain": [
       "             price\n",
       "client_id         \n",
       "c_1         300.65\n",
       "c_10        586.18\n",
       "c_100       222.87\n",
       "c_1000      980.02\n",
       "c_1001     1102.45\n",
       "...            ...\n",
       "c_995       119.08\n",
       "c_996       739.60\n",
       "c_997       572.89\n",
       "c_998      1527.69\n",
       "c_999       305.00\n",
       "\n",
       "[8600 rows x 1 columns]"
      ]
     },
     "execution_count": 39,
     "metadata": {},
     "output_type": "execute_result"
    }
   ],
   "source": [
    "# total d'achats annuels par clients\n",
    "total_pur = trades_cl.groupby('client_id').agg({'price':'sum'})\n",
    "total_pur"
   ]
  },
  {
   "cell_type": "code",
   "execution_count": 40,
   "metadata": {},
   "outputs": [
    {
     "data": {
      "text/html": [
       "<div>\n",
       "<style scoped>\n",
       "    .dataframe tbody tr th:only-of-type {\n",
       "        vertical-align: middle;\n",
       "    }\n",
       "\n",
       "    .dataframe tbody tr th {\n",
       "        vertical-align: top;\n",
       "    }\n",
       "\n",
       "    .dataframe thead th {\n",
       "        text-align: right;\n",
       "    }\n",
       "</style>\n",
       "<table border=\"1\" class=\"dataframe\">\n",
       "  <thead>\n",
       "    <tr style=\"text-align: right;\">\n",
       "      <th></th>\n",
       "      <th></th>\n",
       "      <th>price</th>\n",
       "    </tr>\n",
       "    <tr>\n",
       "      <th>client_id</th>\n",
       "      <th>session_id</th>\n",
       "      <th></th>\n",
       "    </tr>\n",
       "  </thead>\n",
       "  <tbody>\n",
       "    <tr>\n",
       "      <th rowspan=\"5\" valign=\"top\">c_1</th>\n",
       "      <th>s_105105</th>\n",
       "      <td>1</td>\n",
       "    </tr>\n",
       "    <tr>\n",
       "      <th>s_114737</th>\n",
       "      <td>5</td>\n",
       "    </tr>\n",
       "    <tr>\n",
       "      <th>s_120172</th>\n",
       "      <td>2</td>\n",
       "    </tr>\n",
       "    <tr>\n",
       "      <th>s_134971</th>\n",
       "      <td>1</td>\n",
       "    </tr>\n",
       "    <tr>\n",
       "      <th>s_136532</th>\n",
       "      <td>1</td>\n",
       "    </tr>\n",
       "  </tbody>\n",
       "</table>\n",
       "</div>"
      ],
      "text/plain": [
       "                      price\n",
       "client_id session_id       \n",
       "c_1       s_105105        1\n",
       "          s_114737        5\n",
       "          s_120172        2\n",
       "          s_134971        1\n",
       "          s_136532        1"
      ]
     },
     "execution_count": 40,
     "metadata": {},
     "output_type": "execute_result"
    }
   ],
   "source": [
    "# nb d'articles par paniers et 'Top'\n",
    "basket_size = trades_cl.groupby(by = ['client_id', 'session_id']).agg({'price':'count'})\n",
    "basket_size.head()#.sort_values(by='price', ascending=False).head()"
   ]
  },
  {
   "cell_type": "code",
   "execution_count": 41,
   "metadata": {},
   "outputs": [
    {
     "data": {
      "text/html": [
       "<div>\n",
       "<style scoped>\n",
       "    .dataframe tbody tr th:only-of-type {\n",
       "        vertical-align: middle;\n",
       "    }\n",
       "\n",
       "    .dataframe tbody tr th {\n",
       "        vertical-align: top;\n",
       "    }\n",
       "\n",
       "    .dataframe thead th {\n",
       "        text-align: right;\n",
       "    }\n",
       "</style>\n",
       "<table border=\"1\" class=\"dataframe\">\n",
       "  <thead>\n",
       "    <tr style=\"text-align: right;\">\n",
       "      <th></th>\n",
       "      <th></th>\n",
       "      <th>price</th>\n",
       "    </tr>\n",
       "    <tr>\n",
       "      <th>client_id</th>\n",
       "      <th>session_id</th>\n",
       "      <th></th>\n",
       "    </tr>\n",
       "  </thead>\n",
       "  <tbody>\n",
       "    <tr>\n",
       "      <th>c_8345</th>\n",
       "      <th>s_123227</th>\n",
       "      <td>539.23</td>\n",
       "    </tr>\n",
       "    <tr>\n",
       "      <th>c_3241</th>\n",
       "      <th>s_83158</th>\n",
       "      <td>535.17</td>\n",
       "    </tr>\n",
       "    <tr>\n",
       "      <th>c_667</th>\n",
       "      <th>s_150439</th>\n",
       "      <td>496.22</td>\n",
       "    </tr>\n",
       "    <tr>\n",
       "      <th>c_4658</th>\n",
       "      <th>s_170478</th>\n",
       "      <td>476.19</td>\n",
       "    </tr>\n",
       "    <tr>\n",
       "      <th>c_4958</th>\n",
       "      <th>s_165683</th>\n",
       "      <td>473.98</td>\n",
       "    </tr>\n",
       "  </tbody>\n",
       "</table>\n",
       "</div>"
      ],
      "text/plain": [
       "                       price\n",
       "client_id session_id        \n",
       "c_8345    s_123227    539.23\n",
       "c_3241    s_83158     535.17\n",
       "c_667     s_150439    496.22\n",
       "c_4658    s_170478    476.19\n",
       "c_4958    s_165683    473.98"
      ]
     },
     "execution_count": 41,
     "metadata": {},
     "output_type": "execute_result"
    }
   ],
   "source": [
    "#les totaux par paniers individuels\n",
    "basket_total = trades_cl.groupby( by = ['client_id', 'session_id']).agg({'price':'sum'})\n",
    "#plus cher paniers individuels\n",
    "basket_total.sort_values(by='price', ascending=False).head()"
   ]
  },
  {
   "cell_type": "code",
   "execution_count": 42,
   "metadata": {},
   "outputs": [],
   "source": [
    "# On fait une boucle 'for' pour extraire le nombre de sessions par clients\n",
    "index_c = trades_cl.client_id.unique()\n",
    "#On créée un dictionnaire pour correspondre les clients et leur nombre de sessions\n",
    "dict_df = {\"client_id\":[],\n",
    "          \"basket_n\":[]}\n",
    "for i in index_c:\n",
    "    dict_df[\"client_id\"].append(i)\n",
    "    dict_df[\"basket_n\"].append(len(basket_total.loc[i]))"
   ]
  },
  {
   "cell_type": "code",
   "execution_count": 43,
   "metadata": {},
   "outputs": [
    {
     "data": {
      "text/html": [
       "<div>\n",
       "<style scoped>\n",
       "    .dataframe tbody tr th:only-of-type {\n",
       "        vertical-align: middle;\n",
       "    }\n",
       "\n",
       "    .dataframe tbody tr th {\n",
       "        vertical-align: top;\n",
       "    }\n",
       "\n",
       "    .dataframe thead th {\n",
       "        text-align: right;\n",
       "    }\n",
       "</style>\n",
       "<table border=\"1\" class=\"dataframe\">\n",
       "  <thead>\n",
       "    <tr style=\"text-align: right;\">\n",
       "      <th></th>\n",
       "      <th>client_id</th>\n",
       "      <th>basket_n</th>\n",
       "    </tr>\n",
       "  </thead>\n",
       "  <tbody>\n",
       "    <tr>\n",
       "      <th>0</th>\n",
       "      <td>c_4450</td>\n",
       "      <td>44</td>\n",
       "    </tr>\n",
       "    <tr>\n",
       "      <th>1</th>\n",
       "      <td>c_277</td>\n",
       "      <td>7</td>\n",
       "    </tr>\n",
       "    <tr>\n",
       "      <th>2</th>\n",
       "      <td>c_4270</td>\n",
       "      <td>24</td>\n",
       "    </tr>\n",
       "    <tr>\n",
       "      <th>3</th>\n",
       "      <td>c_4597</td>\n",
       "      <td>3</td>\n",
       "    </tr>\n",
       "    <tr>\n",
       "      <th>4</th>\n",
       "      <td>c_1242</td>\n",
       "      <td>11</td>\n",
       "    </tr>\n",
       "  </tbody>\n",
       "</table>\n",
       "</div>"
      ],
      "text/plain": [
       "  client_id  basket_n\n",
       "0    c_4450        44\n",
       "1     c_277         7\n",
       "2    c_4270        24\n",
       "3    c_4597         3\n",
       "4    c_1242        11"
      ]
     },
     "execution_count": 43,
     "metadata": {},
     "output_type": "execute_result"
    }
   ],
   "source": [
    "#on créée un df qui donne le nombre de paniers par clients\n",
    "df_basket_n = pd.DataFrame(dict_df)\n",
    "df_basket_n.head()"
   ]
  },
  {
   "cell_type": "code",
   "execution_count": 44,
   "metadata": {},
   "outputs": [
    {
     "data": {
      "text/html": [
       "<div>\n",
       "<style scoped>\n",
       "    .dataframe tbody tr th:only-of-type {\n",
       "        vertical-align: middle;\n",
       "    }\n",
       "\n",
       "    .dataframe tbody tr th {\n",
       "        vertical-align: top;\n",
       "    }\n",
       "\n",
       "    .dataframe thead th {\n",
       "        text-align: right;\n",
       "    }\n",
       "</style>\n",
       "<table border=\"1\" class=\"dataframe\">\n",
       "  <thead>\n",
       "    <tr style=\"text-align: right;\">\n",
       "      <th></th>\n",
       "      <th>basket_n</th>\n",
       "    </tr>\n",
       "    <tr>\n",
       "      <th>client_id</th>\n",
       "      <th></th>\n",
       "    </tr>\n",
       "  </thead>\n",
       "  <tbody>\n",
       "    <tr>\n",
       "      <th>c_4450</th>\n",
       "      <td>44</td>\n",
       "    </tr>\n",
       "    <tr>\n",
       "      <th>c_277</th>\n",
       "      <td>7</td>\n",
       "    </tr>\n",
       "    <tr>\n",
       "      <th>c_4270</th>\n",
       "      <td>24</td>\n",
       "    </tr>\n",
       "    <tr>\n",
       "      <th>c_4597</th>\n",
       "      <td>3</td>\n",
       "    </tr>\n",
       "    <tr>\n",
       "      <th>c_1242</th>\n",
       "      <td>11</td>\n",
       "    </tr>\n",
       "  </tbody>\n",
       "</table>\n",
       "</div>"
      ],
      "text/plain": [
       "           basket_n\n",
       "client_id          \n",
       "c_4450           44\n",
       "c_277             7\n",
       "c_4270           24\n",
       "c_4597            3\n",
       "c_1242           11"
      ]
     },
     "execution_count": 44,
     "metadata": {},
     "output_type": "execute_result"
    }
   ],
   "source": [
    "df_basket_n2 = df_basket_n.set_index('client_id', drop=True, append=False, inplace=False, verify_integrity=False)\n",
    "df_basket_n2.head()"
   ]
  },
  {
   "cell_type": "markdown",
   "metadata": {},
   "source": [
    "### On calcule le panier moyen par client"
   ]
  },
  {
   "cell_type": "code",
   "execution_count": 45,
   "metadata": {},
   "outputs": [
    {
     "data": {
      "text/html": [
       "<div>\n",
       "<style scoped>\n",
       "    .dataframe tbody tr th:only-of-type {\n",
       "        vertical-align: middle;\n",
       "    }\n",
       "\n",
       "    .dataframe tbody tr th {\n",
       "        vertical-align: top;\n",
       "    }\n",
       "\n",
       "    .dataframe thead th {\n",
       "        text-align: right;\n",
       "    }\n",
       "</style>\n",
       "<table border=\"1\" class=\"dataframe\">\n",
       "  <thead>\n",
       "    <tr style=\"text-align: right;\">\n",
       "      <th></th>\n",
       "      <th>price</th>\n",
       "      <th>basket_n</th>\n",
       "      <th>mean_b</th>\n",
       "    </tr>\n",
       "    <tr>\n",
       "      <th>client_id</th>\n",
       "      <th></th>\n",
       "      <th></th>\n",
       "      <th></th>\n",
       "    </tr>\n",
       "  </thead>\n",
       "  <tbody>\n",
       "    <tr>\n",
       "      <th>c_1</th>\n",
       "      <td>300.65</td>\n",
       "      <td>15</td>\n",
       "      <td>20.043333</td>\n",
       "    </tr>\n",
       "    <tr>\n",
       "      <th>c_10</th>\n",
       "      <td>586.18</td>\n",
       "      <td>16</td>\n",
       "      <td>36.636250</td>\n",
       "    </tr>\n",
       "    <tr>\n",
       "      <th>c_100</th>\n",
       "      <td>222.87</td>\n",
       "      <td>3</td>\n",
       "      <td>74.290000</td>\n",
       "    </tr>\n",
       "    <tr>\n",
       "      <th>c_1000</th>\n",
       "      <td>980.02</td>\n",
       "      <td>42</td>\n",
       "      <td>23.333810</td>\n",
       "    </tr>\n",
       "    <tr>\n",
       "      <th>c_1001</th>\n",
       "      <td>1102.45</td>\n",
       "      <td>24</td>\n",
       "      <td>45.935417</td>\n",
       "    </tr>\n",
       "  </tbody>\n",
       "</table>\n",
       "</div>"
      ],
      "text/plain": [
       "             price  basket_n     mean_b\n",
       "client_id                              \n",
       "c_1         300.65        15  20.043333\n",
       "c_10        586.18        16  36.636250\n",
       "c_100       222.87         3  74.290000\n",
       "c_1000      980.02        42  23.333810\n",
       "c_1001     1102.45        24  45.935417"
      ]
     },
     "execution_count": 45,
     "metadata": {},
     "output_type": "execute_result"
    }
   ],
   "source": [
    "#join gauche sur l'index commun entre les 2 DF\n",
    "basket_avg = total_pur.join(df_basket_n2)\n",
    "basket_avg['mean_b'] = basket_avg['price']/basket_avg['basket_n'] \n",
    "#top des paniers moyens de clients les plus cher\n",
    "basket_avg.head()#.sort_values(by='mean_b', ascending=False).head()"
   ]
  },
  {
   "cell_type": "code",
   "execution_count": 46,
   "metadata": {
    "scrolled": true
   },
   "outputs": [
    {
     "data": {
      "text/plain": [
       "<matplotlib.legend.Legend at 0x7f97b9801d90>"
      ]
     },
     "execution_count": 46,
     "metadata": {},
     "output_type": "execute_result"
    },
    {
     "data": {
      "image/png": "[encoded data removed]",
      "text/plain": [
       "<Figure size 432x288 with 1 Axes>"
      ]
     },
     "metadata": {},
     "output_type": "display_data"
    }
   ],
   "source": [
    "#On plot la distribution du panier moyen annuel des clients\n",
    "plt.hist(basket_avg.mean_b)\n",
    "plt.xlabel('avg basket total')\n",
    "plt.ylabel('Frequency')\n",
    "plt.xticks(rotation=80)\n",
    "plt.axvline(x=basket_avg.mean_b.mean(), label='mean', linewidth=2, color = 'y')\n",
    "plt.axvline(x=st.median(basket_avg.mean_b), label='median', linewidth=2, color = 'black')\n",
    "plt.title(\"distribution of customer average basket total\")\n",
    "#plt.savefig(\"average_baskets.png\")\n",
    "plt.legend()"
   ]
  },
  {
   "cell_type": "code",
   "execution_count": 47,
   "metadata": {},
   "outputs": [
    {
     "data": {
      "text/plain": [
       "array([  15,   16,    3,   42,   24,   11,   21,   18,   63,    2,    5,\n",
       "          4,   10,   40,   45,   38,   34,    6,    8,    9,   17,   60,\n",
       "         12,   26,   55,   47,   13,   61,    7,   31,   32,   39,   14,\n",
       "         23,   49,   57,   30,   33,   62,   25,   27,   48,   64,   67,\n",
       "         19,   41,   44,    1,   43,   20,   35,   22,   46,   28,   29,\n",
       "         36,   50,   53,   59,   69,   37,   71,   51,   58,   66,   70,\n",
       "         54, 5501,   74,   75,   65,   52,   56,   68,   72, 2711,   73,\n",
       "       1888,   77, 1286,   84,   76,   79])"
      ]
     },
     "execution_count": 47,
     "metadata": {},
     "output_type": "execute_result"
    }
   ],
   "source": [
    "basket_avg.basket_n.unique()"
   ]
  },
  {
   "cell_type": "code",
   "execution_count": null,
   "metadata": {},
   "outputs": [],
   "source": []
  },
  {
   "cell_type": "code",
   "execution_count": null,
   "metadata": {},
   "outputs": [],
   "source": []
  },
  {
   "cell_type": "code",
   "execution_count": null,
   "metadata": {},
   "outputs": [],
   "source": []
  },
  {
   "cell_type": "code",
   "execution_count": null,
   "metadata": {},
   "outputs": [],
   "source": []
  },
  {
   "cell_type": "markdown",
   "metadata": {},
   "source": [
    "## Paniers"
   ]
  },
  {
   "cell_type": "markdown",
   "metadata": {},
   "source": [
    "Y a-t-il une corrélation entre l'âge des clients et :\n",
    "\n",
    "    Le montant total des achats ;\n",
    "    La fréquence d’achat (ie. nombre d'achats par mois par exemple) ;\n",
    "    La taille du panier moyen (en nombre d’articles) ;\n",
    "    Les catégories de produits achetés.\n"
   ]
  },
  {
   "cell_type": "code",
   "execution_count": 48,
   "metadata": {},
   "outputs": [
    {
     "data": {
      "text/plain": [
       "<matplotlib.legend.Legend at 0x7f97b9ac1f10>"
      ]
     },
     "execution_count": 48,
     "metadata": {},
     "output_type": "execute_result"
    },
    {
     "data": {
      "image/png": "[encoded data removed]",
      "text/plain": [
       "<Figure size 432x288 with 1 Axes>"
      ]
     },
     "metadata": {},
     "output_type": "display_data"
    }
   ],
   "source": [
    "plt.hist(basket_total.price, bins = 50, range = [0, 300])\n",
    "\n",
    "plt.yticks(np.arange(0, 29000, step=2500))\n",
    "plt.xticks(np.arange(0, 300, step=25))\n",
    "plt.xlabel('price')\n",
    "plt.ylabel('occurrence')\n",
    "plt.xticks(rotation=80)\n",
    "plt.axvline(x=basket_total.price.mean(), label='mean', linewidth=2, color = 'y')\n",
    "plt.axvline(x=st.median(basket_total.price), label='median', linewidth=2, color = 'black')\n",
    "plt.title(\"distribution du montant des paniers\")\n",
    "#plt.savefig(\"hist_basket_totals.png\")\n",
    "plt.legend()"
   ]
  },
  {
   "cell_type": "code",
   "execution_count": 49,
   "metadata": {},
   "outputs": [
    {
     "data": {
      "text/plain": [
       "(3.348249192297504, 34.267091314429535, 15.99, 25.57)"
      ]
     },
     "execution_count": 49,
     "metadata": {},
     "output_type": "execute_result"
    }
   ],
   "source": [
    "#Nota : ici on a des paniers moyens (globalement)\n",
    "basket_total.price.skew(), basket_total.price.mean(), st.mode(basket_total.price), st.median(basket_total.price)"
   ]
  },
  {
   "cell_type": "markdown",
   "metadata": {},
   "source": [
    "***=> le skew (>>0.5) indique que les individus se concentrent vers la gauche et la queue de la courbe va vers la droite***\n",
    "=> On Rq aussi que la courbe a une silhouette similaire à la courbe de l'histogramme des paniers moyens des clients\n",
    "=> On montre qu'il y a plus de paniers dont le montant est inférieur à la médiane"
   ]
  },
  {
   "cell_type": "code",
   "execution_count": null,
   "metadata": {},
   "outputs": [],
   "source": []
  },
  {
   "cell_type": "markdown",
   "metadata": {},
   "source": [
    "### Analyse bivariée"
   ]
  },
  {
   "cell_type": "markdown",
   "metadata": {},
   "source": [
    "## ***Y a-t-il une corrélation entre l'âge des clients et : Le montant total des achats***"
   ]
  },
  {
   "cell_type": "markdown",
   "metadata": {},
   "source": [
    "#### Par 'montant total des achats' on va entendre : montant total des paniers"
   ]
  },
  {
   "cell_type": "code",
   "execution_count": 50,
   "metadata": {},
   "outputs": [],
   "source": [
    "basket_total = trades_cl.groupby( by = ['client_id', 'session_id', 'age']).agg({'price':'sum'})\n",
    "basket_total_r = basket_total.reset_index()[['age', 'price']]"
   ]
  },
  {
   "cell_type": "code",
   "execution_count": 51,
   "metadata": {},
   "outputs": [
    {
     "data": {
      "image/png": "[encoded data removed]",
      "text/plain": [
       "<Figure size 432x288 with 1 Axes>"
      ]
     },
     "metadata": {},
     "output_type": "display_data"
    }
   ],
   "source": [
    "basket_total_r\n",
    "sns.scatterplot(basket_total_r.age, basket_total_r.price);\n",
    "\n",
    "model = LinearRegression()\n",
    "\n",
    "age = np.array(basket_total_r.age).reshape(-1, 1)\n",
    "price = np.array(basket_total_r.price).reshape(-1, 1)\n",
    "# il faut que len des variables soit égal -> OK\n",
    "len(age), len(price)\n",
    "#On donne les données au modele\n",
    "model.fit(age, price)\n",
    "#graphiques\n",
    "plt.plot(age, model.predict(age), color = \"black\")\n",
    "plt.title('total basket price by client age')\n",
    "#plt.savefig(\"basket_total_age.png\")\n",
    "plt.show()"
   ]
  },
  {
   "cell_type": "markdown",
   "metadata": {},
   "source": [
    "### Ce score est très faible il indique que seul 11% de la variabilité du prix des paniers s'explique par l'age (le coef de corrélation est négatif graphiquement) => donc NON pas de corrélation entre age et prix total du panier"
   ]
  },
  {
   "cell_type": "code",
   "execution_count": 52,
   "metadata": {},
   "outputs": [
    {
     "data": {
      "text/plain": [
       "(0.11334581883967165, -0.3366687078415095)"
      ]
     },
     "execution_count": 52,
     "metadata": {},
     "output_type": "execute_result"
    }
   ],
   "source": [
    "#calcul R square et coef de corrélation :\n",
    "r2_score(basket_total_r.price, model.predict(age)), -math.sqrt(r2_score(basket_total_r.price, model.predict(age)))"
   ]
  },
  {
   "cell_type": "markdown",
   "metadata": {},
   "source": [
    "## ***Y a-t-il une corrélation entre l'âge des clients et : La fréquence d’achat (ie. nombre d'achats par mois par exemple)***"
   ]
  },
  {
   "cell_type": "code",
   "execution_count": 53,
   "metadata": {},
   "outputs": [],
   "source": [
    "cor_age_freq = trades_cl[['client_id', 'age']].groupby(by='client_id').agg({'age':'unique'})"
   ]
  },
  {
   "cell_type": "code",
   "execution_count": 54,
   "metadata": {},
   "outputs": [
    {
     "data": {
      "text/html": [
       "<div>\n",
       "<style scoped>\n",
       "    .dataframe tbody tr th:only-of-type {\n",
       "        vertical-align: middle;\n",
       "    }\n",
       "\n",
       "    .dataframe tbody tr th {\n",
       "        vertical-align: top;\n",
       "    }\n",
       "\n",
       "    .dataframe thead th {\n",
       "        text-align: right;\n",
       "    }\n",
       "</style>\n",
       "<table border=\"1\" class=\"dataframe\">\n",
       "  <thead>\n",
       "    <tr style=\"text-align: right;\">\n",
       "      <th></th>\n",
       "      <th>age</th>\n",
       "      <th>basket_n</th>\n",
       "    </tr>\n",
       "    <tr>\n",
       "      <th>client_id</th>\n",
       "      <th></th>\n",
       "      <th></th>\n",
       "    </tr>\n",
       "  </thead>\n",
       "  <tbody>\n",
       "    <tr>\n",
       "      <th>c_1</th>\n",
       "      <td>67</td>\n",
       "      <td>15</td>\n",
       "    </tr>\n",
       "    <tr>\n",
       "      <th>c_10</th>\n",
       "      <td>66</td>\n",
       "      <td>16</td>\n",
       "    </tr>\n",
       "    <tr>\n",
       "      <th>c_100</th>\n",
       "      <td>30</td>\n",
       "      <td>3</td>\n",
       "    </tr>\n",
       "    <tr>\n",
       "      <th>c_1000</th>\n",
       "      <td>56</td>\n",
       "      <td>42</td>\n",
       "    </tr>\n",
       "    <tr>\n",
       "      <th>c_1001</th>\n",
       "      <td>40</td>\n",
       "      <td>24</td>\n",
       "    </tr>\n",
       "    <tr>\n",
       "      <th>...</th>\n",
       "      <td>...</td>\n",
       "      <td>...</td>\n",
       "    </tr>\n",
       "    <tr>\n",
       "      <th>c_995</th>\n",
       "      <td>67</td>\n",
       "      <td>5</td>\n",
       "    </tr>\n",
       "    <tr>\n",
       "      <th>c_996</th>\n",
       "      <td>52</td>\n",
       "      <td>36</td>\n",
       "    </tr>\n",
       "    <tr>\n",
       "      <th>c_997</th>\n",
       "      <td>28</td>\n",
       "      <td>10</td>\n",
       "    </tr>\n",
       "    <tr>\n",
       "      <th>c_998</th>\n",
       "      <td>21</td>\n",
       "      <td>13</td>\n",
       "    </tr>\n",
       "    <tr>\n",
       "      <th>c_999</th>\n",
       "      <td>58</td>\n",
       "      <td>21</td>\n",
       "    </tr>\n",
       "  </tbody>\n",
       "</table>\n",
       "<p>8600 rows × 2 columns</p>\n",
       "</div>"
      ],
      "text/plain": [
       "           age  basket_n\n",
       "client_id               \n",
       "c_1         67        15\n",
       "c_10        66        16\n",
       "c_100       30         3\n",
       "c_1000      56        42\n",
       "c_1001      40        24\n",
       "...        ...       ...\n",
       "c_995       67         5\n",
       "c_996       52        36\n",
       "c_997       28        10\n",
       "c_998       21        13\n",
       "c_999       58        21\n",
       "\n",
       "[8600 rows x 2 columns]"
      ]
     },
     "execution_count": 54,
     "metadata": {},
     "output_type": "execute_result"
    }
   ],
   "source": [
    "#La fonction agg 'unique' sort un array, il faut convertir\n",
    "df_cor = cor_age_freq.join(df_basket_n2).copy()\n",
    "df_cor['age'] = df_cor['age'].astype(int)\n",
    "df_cor"
   ]
  },
  {
   "cell_type": "code",
   "execution_count": 55,
   "metadata": {},
   "outputs": [
    {
     "data": {
      "image/png": "[encoded data removed]",
      "text/plain": [
       "<Figure size 432x288 with 1 Axes>"
      ]
     },
     "metadata": {},
     "output_type": "display_data"
    }
   ],
   "source": [
    "df_cor = cor_age_freq.join(df_basket_n2).copy()\n",
    "#on exclut les outliers du graphique\n",
    "df_cor = df_cor.loc[ df_cor['basket_n'] < 1000]\n",
    "df_cor['age'] = df_cor['age'].astype(int)\n",
    "sns.scatterplot(df_cor.age, df_cor.basket_n)\n",
    "plt.title('basket number by client age')\n",
    "\n",
    "#regression linéaire\n",
    "age_cor = np.array(df_cor.age).reshape(-1, 1)\n",
    "basketn_cor = np.array(df_cor.basket_n).reshape(-1, 1)\n",
    "model.fit(age_cor, basketn_cor)\n",
    "#droite de regression\n",
    "plt.plot(age_cor, model.predict(age_cor), color = \"black\")\n",
    "#plt.savefig(\"basket_frequency_age.png\")\n",
    "plt.show()"
   ]
  },
  {
   "cell_type": "code",
   "execution_count": 56,
   "metadata": {},
   "outputs": [
    {
     "data": {
      "text/plain": [
       "-1.9741822167142438"
      ]
     },
     "execution_count": 56,
     "metadata": {},
     "output_type": "execute_result"
    }
   ],
   "source": [
    "#calcul R square et coef de corrélation :\n",
    "r2_score(df_cor['age'], model.predict(age_cor))"
   ]
  },
  {
   "cell_type": "markdown",
   "metadata": {},
   "source": [
    "### => On trouve un R2 negatif donc la droite de regression a une somme des moindre carrés > à la somme des moindre carrés par rapport la droite égale au nombre moyen de paniers => pas de corrélation\n",
    "Par contre on voit graphiquement que si on segmente les tranches d'âge ainisi : 0-30, 30-60, 60-100\n",
    "On pourrait voir des regression linéaires partielles qui décrivent une corrélation"
   ]
  },
  {
   "cell_type": "code",
   "execution_count": 57,
   "metadata": {},
   "outputs": [
    {
     "data": {
      "text/html": [
       "<div>\n",
       "<style scoped>\n",
       "    .dataframe tbody tr th:only-of-type {\n",
       "        vertical-align: middle;\n",
       "    }\n",
       "\n",
       "    .dataframe tbody tr th {\n",
       "        vertical-align: top;\n",
       "    }\n",
       "\n",
       "    .dataframe thead th {\n",
       "        text-align: right;\n",
       "    }\n",
       "</style>\n",
       "<table border=\"1\" class=\"dataframe\">\n",
       "  <thead>\n",
       "    <tr style=\"text-align: right;\">\n",
       "      <th></th>\n",
       "      <th>age_categ</th>\n",
       "      <th>basket_n</th>\n",
       "    </tr>\n",
       "    <tr>\n",
       "      <th>client_id</th>\n",
       "      <th></th>\n",
       "      <th></th>\n",
       "    </tr>\n",
       "  </thead>\n",
       "  <tbody>\n",
       "    <tr>\n",
       "      <th>c_1</th>\n",
       "      <td>['&gt;60']</td>\n",
       "      <td>15</td>\n",
       "    </tr>\n",
       "    <tr>\n",
       "      <th>c_10</th>\n",
       "      <td>['&gt;60']</td>\n",
       "      <td>16</td>\n",
       "    </tr>\n",
       "    <tr>\n",
       "      <th>c_100</th>\n",
       "      <td>['25-60']</td>\n",
       "      <td>3</td>\n",
       "    </tr>\n",
       "    <tr>\n",
       "      <th>c_1000</th>\n",
       "      <td>['25-60']</td>\n",
       "      <td>42</td>\n",
       "    </tr>\n",
       "    <tr>\n",
       "      <th>c_1001</th>\n",
       "      <td>['25-60']</td>\n",
       "      <td>24</td>\n",
       "    </tr>\n",
       "  </tbody>\n",
       "</table>\n",
       "</div>"
      ],
      "text/plain": [
       "           age_categ  basket_n\n",
       "client_id                     \n",
       "c_1          ['>60']        15\n",
       "c_10         ['>60']        16\n",
       "c_100      ['25-60']         3\n",
       "c_1000     ['25-60']        42\n",
       "c_1001     ['25-60']        24"
      ]
     },
     "execution_count": 57,
     "metadata": {},
     "output_type": "execute_result"
    }
   ],
   "source": [
    "#analyse plus adaptée\n",
    "age_categ_freq = trades_cl[['client_id', 'age_categ']].groupby(by='client_id').agg({'age_categ':'unique'})\n",
    "#age_categ_freq\n",
    "cor_categ = age_categ_freq.join(df_basket_n2).copy()\n",
    "cor_categ['age_categ'] = cor_categ['age_categ'].astype(str)\n",
    "cor_categ.head()"
   ]
  },
  {
   "cell_type": "code",
   "execution_count": 58,
   "metadata": {},
   "outputs": [
    {
     "data": {
      "image/png": "[encoded data removed]",
      "text/plain": [
       "<Figure size 432x288 with 1 Axes>"
      ]
     },
     "metadata": {},
     "output_type": "display_data"
    }
   ],
   "source": [
    "#On ne represente pas les outliers car ils sont bcp trop nombreux\n",
    "sns.boxplot(x = 'age_categ', y = 'basket_n', data = cor_categ.reset_index(),\\\n",
    "            order=[\"['<=25']\",\"['25-60']\",\"['>60']\"],width = 0.8, showfliers=False, showmeans=True)\n",
    "plt.title(\"number of baskets by age categ\")\n",
    "#plt.savefig(\"baskets_age_categ.png\")\n",
    "plt.show()"
   ]
  },
  {
   "cell_type": "markdown",
   "metadata": {},
   "source": [
    "=> cela reflète la faible fréquence d'achats chez les jeunes, que l'on lisait graphiquement sur le nuage de points"
   ]
  },
  {
   "cell_type": "markdown",
   "metadata": {},
   "source": [
    "## ***Y a-t-il une corrélation entre l'âge des clients et : La taille du panier moyen (en nombre d’articles)***"
   ]
  },
  {
   "cell_type": "code",
   "execution_count": 59,
   "metadata": {},
   "outputs": [
    {
     "data": {
      "text/html": [
       "<div>\n",
       "<style scoped>\n",
       "    .dataframe tbody tr th:only-of-type {\n",
       "        vertical-align: middle;\n",
       "    }\n",
       "\n",
       "    .dataframe tbody tr th {\n",
       "        vertical-align: top;\n",
       "    }\n",
       "\n",
       "    .dataframe thead th {\n",
       "        text-align: right;\n",
       "    }\n",
       "</style>\n",
       "<table border=\"1\" class=\"dataframe\">\n",
       "  <thead>\n",
       "    <tr style=\"text-align: right;\">\n",
       "      <th></th>\n",
       "      <th></th>\n",
       "      <th>age</th>\n",
       "      <th>price</th>\n",
       "    </tr>\n",
       "    <tr>\n",
       "      <th>client_id</th>\n",
       "      <th>session_id</th>\n",
       "      <th></th>\n",
       "      <th></th>\n",
       "    </tr>\n",
       "  </thead>\n",
       "  <tbody>\n",
       "    <tr>\n",
       "      <th rowspan=\"5\" valign=\"top\">c_1</th>\n",
       "      <th>s_105105</th>\n",
       "      <td>67</td>\n",
       "      <td>1</td>\n",
       "    </tr>\n",
       "    <tr>\n",
       "      <th>s_114737</th>\n",
       "      <td>67</td>\n",
       "      <td>5</td>\n",
       "    </tr>\n",
       "    <tr>\n",
       "      <th>s_120172</th>\n",
       "      <td>67</td>\n",
       "      <td>2</td>\n",
       "    </tr>\n",
       "    <tr>\n",
       "      <th>s_134971</th>\n",
       "      <td>67</td>\n",
       "      <td>1</td>\n",
       "    </tr>\n",
       "    <tr>\n",
       "      <th>s_136532</th>\n",
       "      <td>67</td>\n",
       "      <td>1</td>\n",
       "    </tr>\n",
       "  </tbody>\n",
       "</table>\n",
       "</div>"
      ],
      "text/plain": [
       "                      age  price\n",
       "client_id session_id            \n",
       "c_1       s_105105     67      1\n",
       "          s_114737     67      5\n",
       "          s_120172     67      2\n",
       "          s_134971     67      1\n",
       "          s_136532     67      1"
      ]
     },
     "execution_count": 59,
     "metadata": {},
     "output_type": "execute_result"
    }
   ],
   "source": [
    "#on va utiliser la var qu'on avait crée en amont\n",
    "#basket_size\n",
    "df_corre = cor_age_freq.join(basket_size).copy()\n",
    "df_corre['age'] = df_corre['age'].astype(int)\n",
    "df_corre.head()"
   ]
  },
  {
   "cell_type": "code",
   "execution_count": 60,
   "metadata": {},
   "outputs": [
    {
     "data": {
      "image/png": "[encoded data removed]",
      "text/plain": [
       "<Figure size 432x288 with 1 Axes>"
      ]
     },
     "metadata": {},
     "output_type": "display_data"
    }
   ],
   "source": [
    "#distribution bivariée\n",
    "sns.scatterplot(df_corre.age, df_corre.price)\n",
    "plt.title('basket number by client age')\n",
    "\n",
    "#regression linéaire\n",
    "age_corre = np.array(df_corre.age).reshape(-1, 1)\n",
    "basket_corre = np.array(df_corre.price).reshape(-1, 1)\n",
    "model.fit(age_corre, basket_corre)\n",
    "#droite de regression\n",
    "plt.plot(age_corre, model.predict(age_corre), color = \"black\")\n",
    "plt.title('basket size by client age')\n",
    "plt.ylabel('number of articles in basket')\n",
    "#plt.savefig(\"basket_size_age.png\")\n",
    "plt.show()"
   ]
  },
  {
   "cell_type": "code",
   "execution_count": 61,
   "metadata": {},
   "outputs": [
    {
     "data": {
      "text/plain": [
       "(0.031566468185664665, 0.17766954771615948)"
      ]
     },
     "execution_count": 61,
     "metadata": {},
     "output_type": "execute_result"
    }
   ],
   "source": [
    "#calcul R square et coef de corrélation :\n",
    "r2_score(df_corre.price, model.predict(age_corre)), math.sqrt(r2_score(df_corre.price, model.predict(age_corre)))"
   ]
  },
  {
   "cell_type": "markdown",
   "metadata": {},
   "source": [
    "### Là encore le nombre d'article par panier n'est pas corrélé à l'âge : la variable âge n'explique que 3% de la variabilité du nombre d'articles par paniers par rapport au nombre moyen par panier"
   ]
  },
  {
   "cell_type": "code",
   "execution_count": null,
   "metadata": {},
   "outputs": [],
   "source": []
  },
  {
   "cell_type": "markdown",
   "metadata": {},
   "source": [
    "## Y a-t-il une corrélation entre le sexe des clients et les catégories de produits achetés ?"
   ]
  },
  {
   "cell_type": "code",
   "execution_count": 62,
   "metadata": {},
   "outputs": [
    {
     "data": {
      "text/html": [
       "<div>\n",
       "<style scoped>\n",
       "    .dataframe tbody tr th:only-of-type {\n",
       "        vertical-align: middle;\n",
       "    }\n",
       "\n",
       "    .dataframe tbody tr th {\n",
       "        vertical-align: top;\n",
       "    }\n",
       "\n",
       "    .dataframe thead tr th {\n",
       "        text-align: left;\n",
       "    }\n",
       "\n",
       "    .dataframe thead tr:last-of-type th {\n",
       "        text-align: right;\n",
       "    }\n",
       "</style>\n",
       "<table border=\"1\" class=\"dataframe\">\n",
       "  <thead>\n",
       "    <tr>\n",
       "      <th></th>\n",
       "      <th colspan=\"2\" halign=\"left\">price</th>\n",
       "    </tr>\n",
       "    <tr>\n",
       "      <th>sex</th>\n",
       "      <th>f</th>\n",
       "      <th>m</th>\n",
       "    </tr>\n",
       "    <tr>\n",
       "      <th>categ</th>\n",
       "      <th></th>\n",
       "      <th></th>\n",
       "    </tr>\n",
       "  </thead>\n",
       "  <tbody>\n",
       "    <tr>\n",
       "      <th>0.0</th>\n",
       "      <td>103846</td>\n",
       "      <td>105683</td>\n",
       "    </tr>\n",
       "    <tr>\n",
       "      <th>1.0</th>\n",
       "      <td>55469</td>\n",
       "      <td>54266</td>\n",
       "    </tr>\n",
       "    <tr>\n",
       "      <th>2.0</th>\n",
       "      <td>8260</td>\n",
       "      <td>9292</td>\n",
       "    </tr>\n",
       "  </tbody>\n",
       "</table>\n",
       "</div>"
      ],
      "text/plain": [
       "        price        \n",
       "sex         f       m\n",
       "categ                \n",
       "0.0    103846  105683\n",
       "1.0     55469   54266\n",
       "2.0      8260    9292"
      ]
     },
     "execution_count": 62,
     "metadata": {},
     "output_type": "execute_result"
    }
   ],
   "source": [
    "#on fait une aggrégation 'count' pour raisonner en termes d'achats sans égard pour les prix\n",
    "cont_df = trades_cl[['sex','categ','price']].groupby( by = ['sex', 'categ']).agg({'price':'count'}).unstack('sex')\n",
    "cont_df"
   ]
  },
  {
   "cell_type": "code",
   "execution_count": 63,
   "metadata": {},
   "outputs": [
    {
     "data": {
      "text/plain": [
       "<matplotlib.axes._subplots.AxesSubplot at 0x7f97b9542590>"
      ]
     },
     "execution_count": 63,
     "metadata": {},
     "output_type": "execute_result"
    },
    {
     "data": {
      "image/png": "[encoded data removed]",
      "text/plain": [
       "<Figure size 432x288 with 2 Axes>"
      ]
     },
     "metadata": {},
     "output_type": "display_data"
    }
   ],
   "source": [
    "#On analyse la corrélation entre le sexe et la la catégorie des articles achetés\n",
    "sns.heatmap(cont_df)\n",
    "#plt.savefig(\"cont_table.png\")"
   ]
  },
  {
   "cell_type": "markdown",
   "metadata": {},
   "source": [
    "On a 2 degrés de libertés (3-1)*(2-1)\n",
    "conditions test Chi-2 : echantillon pas trop petit et pourcentages pas trop proches de 100%"
   ]
  },
  {
   "cell_type": "code",
   "execution_count": 64,
   "metadata": {},
   "outputs": [
    {
     "data": {
      "text/plain": [
       "(81.73335807676145,\n",
       " 1.7857752515034613e-18,\n",
       " 2,\n",
       " array([[104246.30117037, 105282.69882963],\n",
       "        [ 54596.10774132,  55138.89225868],\n",
       "        [  8732.59108831,   8819.40891169]]))"
      ]
     },
     "execution_count": 64,
     "metadata": {},
     "output_type": "execute_result"
    }
   ],
   "source": [
    "chi2_contingency(cont_df)"
   ]
  },
  {
   "cell_type": "markdown",
   "metadata": {},
   "source": [
    "Chi2>>5.99 donc il faudrait rejeter H0; p-value : La proba d'avoir un echantillon aussi extreme ou plus encore que celui que nous avons est infime dans l'hypothèse H0, cela n'est pas cohérent car graphiquement le choix des categories est indépendant du sexe... En outre les valeurs attendues sont très similaires à celles de l'échantillon"
   ]
  },
  {
   "cell_type": "code",
   "execution_count": 65,
   "metadata": {},
   "outputs": [
    {
     "name": "stdout",
     "output_type": "stream",
     "text": [
      "[0.00020067] [0.98937617]\n"
     ]
    }
   ],
   "source": [
    "#on fait une Anova : on considère que seul le sexe est catégoriel\n",
    "idx = pd.IndexSlice\n",
    "#on slice le multi index\n",
    "female = cont_df.loc[:, idx[:,'f']]\n",
    "male = cont_df.loc[:, idx[:,'m']]\n",
    "f_val, p_val = f_oneway(female, male)\n",
    "print(f_val, p_val)"
   ]
  },
  {
   "cell_type": "markdown",
   "metadata": {},
   "source": [
    "p~0.9>>0.05 donc les 2 groupes, (sous groupés en catégories) sont indépendants (cela saute aux yeux vu la heatmap)"
   ]
  },
  {
   "cell_type": "code",
   "execution_count": null,
   "metadata": {},
   "outputs": [],
   "source": []
  }
 ],
 "metadata": {
  "kernelspec": {
   "display_name": "Python 3",
   "language": "python",
   "name": "python3"
  },
  "language_info": {
   "codemirror_mode": {
    "name": "ipython",
    "version": 3
   },
   "file_extension": ".py",
   "mimetype": "text/x-python",
   "name": "python",
   "nbconvert_exporter": "python",
   "pygments_lexer": "ipython3",
   "version": "3.7.6"
  }
 },
 "nbformat": 4,
 "nbformat_minor": 4
}
