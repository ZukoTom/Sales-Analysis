{
 "cells": [
  {
   "cell_type": "markdown",
   "metadata": {},
   "source": [
    "### Nettoyage des données (Partie 1 de l'exercice)"
   ]
  },
  {
   "cell_type": "code",
   "execution_count": 1,
   "metadata": {},
   "outputs": [],
   "source": [
    "#inportation des librairies\n",
    "import pandas as pd\n",
    "import seaborn as sns\n",
    "import numpy as np\n",
    "from matplotlib import pyplot as plt"
   ]
  },
  {
   "cell_type": "markdown",
   "metadata": {},
   "source": [
    "**Importation des données** <br/> données de https://s3-eu-west-1.amazonaws.com/static.oc-static.com/prod/courses/files/parcours-data-analyst/dataset_P4.zip"
   ]
  },
  {
   "cell_type": "code",
   "execution_count": 2,
   "metadata": {},
   "outputs": [],
   "source": [
    "#importation des données dans des dataframes\n",
    "clients = pd.read_csv(\"dataset_P4/customers.csv\")\n",
    "products = pd.read_csv(\"dataset_P4/products.csv\")\n",
    "transactions = pd.read_csv(\"dataset_P4/transactions.csv\")"
   ]
  },
  {
   "cell_type": "markdown",
   "metadata": {},
   "source": [
    "### 1. Apperçu des tables"
   ]
  },
  {
   "cell_type": "code",
   "execution_count": 3,
   "metadata": {},
   "outputs": [
    {
     "data": {
      "text/plain": [
       "(  client_id sex  birth\n",
       " 0    c_4410   f   1967\n",
       " 1    c_7839   f   1975\n",
       " 2    c_1699   f   1984\n",
       " 3    c_5961   f   1962\n",
       " 4    c_5320   m   1943,\n",
       " (8623, 3))"
      ]
     },
     "execution_count": 3,
     "metadata": {},
     "output_type": "execute_result"
    }
   ],
   "source": [
    "clients.head(), clients.shape"
   ]
  },
  {
   "cell_type": "code",
   "execution_count": 4,
   "metadata": {},
   "outputs": [
    {
     "data": {
      "text/plain": [
       "(  id_prod  price  categ\n",
       " 0  0_1421  19.99      0\n",
       " 1  0_1368   5.13      0\n",
       " 2   0_731  17.99      0\n",
       " 3   1_587   4.99      1\n",
       " 4  0_1507   3.99      0,\n",
       " (3287, 3))"
      ]
     },
     "execution_count": 4,
     "metadata": {},
     "output_type": "execute_result"
    }
   ],
   "source": [
    "products.head(), products.shape"
   ]
  },
  {
   "cell_type": "code",
   "execution_count": 5,
   "metadata": {},
   "outputs": [
    {
     "data": {
      "text/plain": [
       "(  id_prod                        date session_id client_id\n",
       " 0  0_1483  2021-04-10 18:37:28.723910    s_18746    c_4450\n",
       " 1   2_226  2022-02-03 01:55:53.276402   s_159142     c_277\n",
       " 2   1_374  2021-09-23 15:13:46.938559    s_94290    c_4270\n",
       " 3  0_2186  2021-10-17 03:27:18.783634   s_105936    c_4597\n",
       " 4  0_1351  2021-07-17 20:34:25.800563    s_63642    c_1242,\n",
       " (337016, 4))"
      ]
     },
     "execution_count": 5,
     "metadata": {},
     "output_type": "execute_result"
    }
   ],
   "source": [
    "transactions.head(), transactions.shape"
   ]
  },
  {
   "cell_type": "code",
   "execution_count": 6,
   "metadata": {},
   "outputs": [
    {
     "data": {
      "text/plain": [
       "(client_id    0\n",
       " sex          0\n",
       " birth        0\n",
       " dtype: int64,\n",
       " id_prod    0\n",
       " price      0\n",
       " categ      0\n",
       " dtype: int64,\n",
       " id_prod       0\n",
       " date          0\n",
       " session_id    0\n",
       " client_id     0\n",
       " dtype: int64)"
      ]
     },
     "execution_count": 6,
     "metadata": {},
     "output_type": "execute_result"
    }
   ],
   "source": [
    "#recherche de valeurs nulles / manquantes\n",
    "clients.isnull().sum(), products.isnull().sum(), transactions.isnull().sum()"
   ]
  },
  {
   "cell_type": "code",
   "execution_count": 7,
   "metadata": {},
   "outputs": [
    {
     "data": {
      "text/plain": [
       "(client_id    0\n",
       " sex          0\n",
       " birth        0\n",
       " dtype: int64,\n",
       " id_prod    0\n",
       " price      0\n",
       " categ      0\n",
       " dtype: int64,\n",
       " id_prod       0\n",
       " date          0\n",
       " session_id    0\n",
       " client_id     0\n",
       " dtype: int64)"
      ]
     },
     "execution_count": 7,
     "metadata": {},
     "output_type": "execute_result"
    }
   ],
   "source": [
    "clients.isna().sum(), products.isna().sum(), transactions.isna().sum()"
   ]
  },
  {
   "cell_type": "markdown",
   "metadata": {},
   "source": [
    "#### *=> aucun null dans aucun des csv*"
   ]
  },
  {
   "cell_type": "markdown",
   "metadata": {},
   "source": [
    "### 1.1 Analyse des tables individuellement"
   ]
  },
  {
   "cell_type": "markdown",
   "metadata": {},
   "source": [
    "1.1.1 analyse csv 'clients'"
   ]
  },
  {
   "cell_type": "code",
   "execution_count": 8,
   "metadata": {},
   "outputs": [
    {
     "data": {
      "text/html": [
       "<div>\n",
       "<style scoped>\n",
       "    .dataframe tbody tr th:only-of-type {\n",
       "        vertical-align: middle;\n",
       "    }\n",
       "\n",
       "    .dataframe tbody tr th {\n",
       "        vertical-align: top;\n",
       "    }\n",
       "\n",
       "    .dataframe thead th {\n",
       "        text-align: right;\n",
       "    }\n",
       "</style>\n",
       "<table border=\"1\" class=\"dataframe\">\n",
       "  <thead>\n",
       "    <tr style=\"text-align: right;\">\n",
       "      <th></th>\n",
       "      <th>client_id</th>\n",
       "      <th>sex</th>\n",
       "      <th>birth</th>\n",
       "    </tr>\n",
       "  </thead>\n",
       "  <tbody>\n",
       "  </tbody>\n",
       "</table>\n",
       "</div>"
      ],
      "text/plain": [
       "Empty DataFrame\n",
       "Columns: [client_id, sex, birth]\n",
       "Index: []"
      ]
     },
     "execution_count": 8,
     "metadata": {},
     "output_type": "execute_result"
    }
   ],
   "source": [
    "# pas de doublons dans 'clients'\n",
    "clients.loc[clients['client_id'].duplicated(keep=False),:]"
   ]
  },
  {
   "cell_type": "markdown",
   "metadata": {},
   "source": [
    "#### \"*Deux individus avec les mêmes valeurs pour une clé sont un doublon !*\" Nicolas Rangeon, Cours OpenClassrooms <br/>https://openclassrooms.com/fr/courses/7410486-nettoyez-et-analysez-votre-jeu-de-donnees/7450826-gerez-les-differentes-erreurs-dun-jeu-de-donnees"
   ]
  },
  {
   "cell_type": "code",
   "execution_count": 9,
   "metadata": {},
   "outputs": [
    {
     "name": "stdout",
     "output_type": "stream",
     "text": [
      "c'est une clé unique\n"
     ]
    }
   ],
   "source": [
    "#On teste la clé primaire : {'client_id'}\n",
    "def testClePrim(df, column):\n",
    "    if len(df) != len(df[column].drop_duplicates()):\n",
    "        print(\"ce n'est pas une clé unique\")\n",
    "    else : print(\"c'est une clé unique\")\n",
    "\n",
    "testClePrim(clients, ['client_id'])"
   ]
  },
  {
   "cell_type": "markdown",
   "metadata": {},
   "source": [
    "### discrétiser les ages"
   ]
  },
  {
   "cell_type": "code",
   "execution_count": 10,
   "metadata": {},
   "outputs": [],
   "source": [
    "#On créée 2 nouvelles colonnes dans la table afin de s'en servir pour l'analyse qui suit\n",
    "clients['age'] = 2022 - clients['birth']"
   ]
  },
  {
   "cell_type": "code",
   "execution_count": 11,
   "metadata": {},
   "outputs": [],
   "source": [
    "#colonne tranche d'age\n",
    "clients['age_categ'] = pd.cut(clients['age'], bins=[0, 25, 60, float('Inf')], labels=['<=25', '25-60', '>60'])"
   ]
  },
  {
   "cell_type": "markdown",
   "metadata": {},
   "source": [
    "#### 1.1.1 analyse csv products"
   ]
  },
  {
   "cell_type": "code",
   "execution_count": 12,
   "metadata": {},
   "outputs": [
    {
     "data": {
      "text/plain": [
       "count    3287.000000\n",
       "mean       21.856641\n",
       "std        29.847908\n",
       "min        -1.000000\n",
       "25%         6.990000\n",
       "50%        13.060000\n",
       "75%        22.990000\n",
       "max       300.000000\n",
       "Name: price, dtype: float64"
      ]
     },
     "execution_count": 12,
     "metadata": {},
     "output_type": "execute_result"
    }
   ],
   "source": [
    "#On remarque un prix de 300 € qui parraît abberrant pour un livre\n",
    "#et un produit de prix négatif, la moyenne étant ~21€\n",
    "products.price.describe()"
   ]
  },
  {
   "cell_type": "code",
   "execution_count": 13,
   "metadata": {},
   "outputs": [
    {
     "data": {
      "text/html": [
       "<div>\n",
       "<style scoped>\n",
       "    .dataframe tbody tr th:only-of-type {\n",
       "        vertical-align: middle;\n",
       "    }\n",
       "\n",
       "    .dataframe tbody tr th {\n",
       "        vertical-align: top;\n",
       "    }\n",
       "\n",
       "    .dataframe thead th {\n",
       "        text-align: right;\n",
       "    }\n",
       "</style>\n",
       "<table border=\"1\" class=\"dataframe\">\n",
       "  <thead>\n",
       "    <tr style=\"text-align: right;\">\n",
       "      <th></th>\n",
       "      <th>id_prod</th>\n",
       "      <th>price</th>\n",
       "      <th>categ</th>\n",
       "    </tr>\n",
       "  </thead>\n",
       "  <tbody>\n",
       "  </tbody>\n",
       "</table>\n",
       "</div>"
      ],
      "text/plain": [
       "Empty DataFrame\n",
       "Columns: [id_prod, price, categ]\n",
       "Index: []"
      ]
     },
     "execution_count": 13,
     "metadata": {},
     "output_type": "execute_result"
    }
   ],
   "source": [
    "products.loc[products['price'].isnull()]"
   ]
  },
  {
   "cell_type": "code",
   "execution_count": 14,
   "metadata": {},
   "outputs": [
    {
     "data": {
      "text/plain": [
       "(Empty DataFrame\n",
       " Columns: [id_prod, price, categ]\n",
       " Index: [],\n",
       "     id_prod  price  categ\n",
       " 731     T_0   -1.0      0)"
      ]
     },
     "execution_count": 14,
     "metadata": {},
     "output_type": "execute_result"
    }
   ],
   "source": [
    "# Le produit 'T_0' a un prix négatif c'est suspect\n",
    "products.loc[products['price'] == 0, :], products.loc[products['price'] < 0, :]"
   ]
  },
  {
   "cell_type": "code",
   "execution_count": 15,
   "metadata": {},
   "outputs": [
    {
     "data": {
      "text/html": [
       "<div>\n",
       "<style scoped>\n",
       "    .dataframe tbody tr th:only-of-type {\n",
       "        vertical-align: middle;\n",
       "    }\n",
       "\n",
       "    .dataframe tbody tr th {\n",
       "        vertical-align: top;\n",
       "    }\n",
       "\n",
       "    .dataframe thead th {\n",
       "        text-align: right;\n",
       "    }\n",
       "</style>\n",
       "<table border=\"1\" class=\"dataframe\">\n",
       "  <thead>\n",
       "    <tr style=\"text-align: right;\">\n",
       "      <th></th>\n",
       "      <th>id_prod</th>\n",
       "      <th>price</th>\n",
       "      <th>categ</th>\n",
       "    </tr>\n",
       "  </thead>\n",
       "  <tbody>\n",
       "  </tbody>\n",
       "</table>\n",
       "</div>"
      ],
      "text/plain": [
       "Empty DataFrame\n",
       "Columns: [id_prod, price, categ]\n",
       "Index: []"
      ]
     },
     "execution_count": 15,
     "metadata": {},
     "output_type": "execute_result"
    }
   ],
   "source": [
    "#pas de doublons dans 'products'\n",
    "products.loc[products['id_prod'].duplicated(keep=False),:]"
   ]
  },
  {
   "cell_type": "code",
   "execution_count": 16,
   "metadata": {},
   "outputs": [
    {
     "name": "stdout",
     "output_type": "stream",
     "text": [
      "c'est une clé unique\n"
     ]
    }
   ],
   "source": [
    "#On teste la clé primaire : {'id_prod'}\n",
    "def testClePrim(df, column):\n",
    "    if len(df) != len(df[column].drop_duplicates()):\n",
    "        print(\"ce n'est pas une clé unique\")\n",
    "    else : print(\"c'est une clé unique\")\n",
    "\n",
    "testClePrim(products, ['id_prod'])"
   ]
  },
  {
   "cell_type": "markdown",
   "metadata": {},
   "source": [
    "#### 1.1.2 Analyse table 'transactions'"
   ]
  },
  {
   "cell_type": "code",
   "execution_count": 17,
   "metadata": {},
   "outputs": [
    {
     "data": {
      "text/plain": [
       "id_prod       256699\n",
       "date          256699\n",
       "session_id    256699\n",
       "client_id     256699\n",
       "dtype: int64"
      ]
     },
     "execution_count": 17,
     "metadata": {},
     "output_type": "execute_result"
    }
   ],
   "source": [
    "# On trouve enormément de doublons\n",
    "transactions.loc[transactions['session_id'].duplicated(keep=False),:].count()"
   ]
  },
  {
   "cell_type": "code",
   "execution_count": 18,
   "metadata": {},
   "outputs": [
    {
     "data": {
      "text/html": [
       "<div>\n",
       "<style scoped>\n",
       "    .dataframe tbody tr th:only-of-type {\n",
       "        vertical-align: middle;\n",
       "    }\n",
       "\n",
       "    .dataframe tbody tr th {\n",
       "        vertical-align: top;\n",
       "    }\n",
       "\n",
       "    .dataframe thead th {\n",
       "        text-align: right;\n",
       "    }\n",
       "</style>\n",
       "<table border=\"1\" class=\"dataframe\">\n",
       "  <thead>\n",
       "    <tr style=\"text-align: right;\">\n",
       "      <th></th>\n",
       "      <th>id_prod</th>\n",
       "      <th>date</th>\n",
       "      <th>session_id</th>\n",
       "      <th>client_id</th>\n",
       "    </tr>\n",
       "  </thead>\n",
       "  <tbody>\n",
       "    <tr>\n",
       "      <th>1431</th>\n",
       "      <td>T_0</td>\n",
       "      <td>test_2021-03-01 02:30:02.237420</td>\n",
       "      <td>s_0</td>\n",
       "      <td>ct_1</td>\n",
       "    </tr>\n",
       "    <tr>\n",
       "      <th>2365</th>\n",
       "      <td>T_0</td>\n",
       "      <td>test_2021-03-01 02:30:02.237446</td>\n",
       "      <td>s_0</td>\n",
       "      <td>ct_1</td>\n",
       "    </tr>\n",
       "    <tr>\n",
       "      <th>2895</th>\n",
       "      <td>T_0</td>\n",
       "      <td>test_2021-03-01 02:30:02.237414</td>\n",
       "      <td>s_0</td>\n",
       "      <td>ct_1</td>\n",
       "    </tr>\n",
       "    <tr>\n",
       "      <th>5955</th>\n",
       "      <td>T_0</td>\n",
       "      <td>test_2021-03-01 02:30:02.237441</td>\n",
       "      <td>s_0</td>\n",
       "      <td>ct_0</td>\n",
       "    </tr>\n",
       "    <tr>\n",
       "      <th>7283</th>\n",
       "      <td>T_0</td>\n",
       "      <td>test_2021-03-01 02:30:02.237434</td>\n",
       "      <td>s_0</td>\n",
       "      <td>ct_1</td>\n",
       "    </tr>\n",
       "  </tbody>\n",
       "</table>\n",
       "</div>"
      ],
      "text/plain": [
       "     id_prod                             date session_id client_id\n",
       "1431     T_0  test_2021-03-01 02:30:02.237420        s_0      ct_1\n",
       "2365     T_0  test_2021-03-01 02:30:02.237446        s_0      ct_1\n",
       "2895     T_0  test_2021-03-01 02:30:02.237414        s_0      ct_1\n",
       "5955     T_0  test_2021-03-01 02:30:02.237441        s_0      ct_0\n",
       "7283     T_0  test_2021-03-01 02:30:02.237434        s_0      ct_1"
      ]
     },
     "execution_count": 18,
     "metadata": {},
     "output_type": "execute_result"
    }
   ],
   "source": [
    "# On cherche des patterns dans les dupes\n",
    "dupes = transactions.loc[transactions['date'].duplicated(keep=False),:]\n",
    "#Les dupes semblent avoir 'test' dans leur date\n",
    "dupes.head()"
   ]
  },
  {
   "cell_type": "code",
   "execution_count": 19,
   "metadata": {},
   "outputs": [
    {
     "data": {
      "text/plain": [
       "(array(['s_0'], dtype=object), array(['ct_1', 'ct_0'], dtype=object))"
      ]
     },
     "execution_count": 19,
     "metadata": {},
     "output_type": "execute_result"
    }
   ],
   "source": [
    "# On cherche des patterns dans les dupes :  ils sont tous s_0\n",
    "dupes.session_id.unique(), dupes.client_id.unique()"
   ]
  },
  {
   "cell_type": "code",
   "execution_count": 20,
   "metadata": {
    "scrolled": true
   },
   "outputs": [
    {
     "data": {
      "text/html": [
       "<div>\n",
       "<style scoped>\n",
       "    .dataframe tbody tr th:only-of-type {\n",
       "        vertical-align: middle;\n",
       "    }\n",
       "\n",
       "    .dataframe tbody tr th {\n",
       "        vertical-align: top;\n",
       "    }\n",
       "\n",
       "    .dataframe thead th {\n",
       "        text-align: right;\n",
       "    }\n",
       "</style>\n",
       "<table border=\"1\" class=\"dataframe\">\n",
       "  <thead>\n",
       "    <tr style=\"text-align: right;\">\n",
       "      <th></th>\n",
       "      <th>id_prod</th>\n",
       "      <th>date</th>\n",
       "      <th>session_id</th>\n",
       "      <th>client_id</th>\n",
       "    </tr>\n",
       "  </thead>\n",
       "  <tbody>\n",
       "  </tbody>\n",
       "</table>\n",
       "</div>"
      ],
      "text/plain": [
       "Empty DataFrame\n",
       "Columns: [id_prod, date, session_id, client_id]\n",
       "Index: []"
      ]
     },
     "execution_count": 20,
     "metadata": {},
     "output_type": "execute_result"
    }
   ],
   "source": [
    "#on enlève les s_0\n",
    "transactions.drop(transactions[transactions['session_id'] == 's_0' ].index, inplace = True)\n",
    "# test du drop -> OK\n",
    "transactions.loc[transactions['session_id'] == 's_0',:]"
   ]
  },
  {
   "cell_type": "markdown",
   "metadata": {},
   "source": [
    "1.1.3 analyse csv 'transactions'"
   ]
  },
  {
   "cell_type": "code",
   "execution_count": 21,
   "metadata": {},
   "outputs": [
    {
     "name": "stdout",
     "output_type": "stream",
     "text": [
      "c'est une clé unique\n"
     ]
    }
   ],
   "source": [
    "#On teste la clé primaire : {'session_id', 'date'}\n",
    "def testClePrim(df, column):\n",
    "    if len(df) != len(df[column].drop_duplicates()):\n",
    "        print(\"ce n'est pas une clé unique\")\n",
    "    else : print(\"c'est une clé unique\")\n",
    "\n",
    "testClePrim(transactions, ['session_id', 'date'])"
   ]
  },
  {
   "cell_type": "markdown",
   "metadata": {},
   "source": [
    "### 1.2 Analyse Correspondance des 'id_prod' entre tables 'products' et 'transactions'"
   ]
  },
  {
   "cell_type": "code",
   "execution_count": 22,
   "metadata": {},
   "outputs": [
    {
     "data": {
      "text/plain": [
       "(3265, 3287)"
      ]
     },
     "execution_count": 22,
     "metadata": {},
     "output_type": "execute_result"
    }
   ],
   "source": [
    "#pas le même nb de produits dans les tables\n",
    "len(transactions.id_prod.unique()), len(products.id_prod.unique())"
   ]
  },
  {
   "cell_type": "code",
   "execution_count": 23,
   "metadata": {},
   "outputs": [
    {
     "data": {
      "text/plain": [
       "(23,\n",
       " array(['0_1014', '0_1016', '0_1025', '0_1062', '0_1119', '0_1318',\n",
       "        '0_1620', '0_1624', '0_1645', '0_1780', '0_1800', '0_2308',\n",
       "        '0_299', '0_310', '0_322', '0_510', '0_525', '1_0', '1_394',\n",
       "        '2_72', '2_86', '2_87', 'T_0'], dtype=object))"
      ]
     },
     "execution_count": 23,
     "metadata": {},
     "output_type": "execute_result"
    }
   ],
   "source": [
    "#quels id_prod de products.id_prod de sont PAS dans transactions.id_prod?\n",
    "id_prod_p = np.setdiff1d(products.id_prod.unique(),transactions.id_prod.unique())\n",
    "len(id_prod_p), id_prod_p"
   ]
  },
  {
   "cell_type": "code",
   "execution_count": 24,
   "metadata": {},
   "outputs": [
    {
     "data": {
      "text/html": [
       "<div>\n",
       "<style scoped>\n",
       "    .dataframe tbody tr th:only-of-type {\n",
       "        vertical-align: middle;\n",
       "    }\n",
       "\n",
       "    .dataframe tbody tr th {\n",
       "        vertical-align: top;\n",
       "    }\n",
       "\n",
       "    .dataframe thead th {\n",
       "        text-align: right;\n",
       "    }\n",
       "</style>\n",
       "<table border=\"1\" class=\"dataframe\">\n",
       "  <thead>\n",
       "    <tr style=\"text-align: right;\">\n",
       "      <th></th>\n",
       "      <th>id_prod</th>\n",
       "      <th>price</th>\n",
       "      <th>categ</th>\n",
       "    </tr>\n",
       "  </thead>\n",
       "  <tbody>\n",
       "    <tr>\n",
       "      <th>184</th>\n",
       "      <td>0_1016</td>\n",
       "      <td>35.06</td>\n",
       "      <td>0</td>\n",
       "    </tr>\n",
       "    <tr>\n",
       "      <th>279</th>\n",
       "      <td>0_1780</td>\n",
       "      <td>1.67</td>\n",
       "      <td>0</td>\n",
       "    </tr>\n",
       "    <tr>\n",
       "      <th>731</th>\n",
       "      <td>T_0</td>\n",
       "      <td>-1.00</td>\n",
       "      <td>0</td>\n",
       "    </tr>\n",
       "    <tr>\n",
       "      <th>737</th>\n",
       "      <td>0_1062</td>\n",
       "      <td>20.08</td>\n",
       "      <td>0</td>\n",
       "    </tr>\n",
       "    <tr>\n",
       "      <th>794</th>\n",
       "      <td>0_1119</td>\n",
       "      <td>2.99</td>\n",
       "      <td>0</td>\n",
       "    </tr>\n",
       "    <tr>\n",
       "      <th>811</th>\n",
       "      <td>0_1014</td>\n",
       "      <td>1.15</td>\n",
       "      <td>0</td>\n",
       "    </tr>\n",
       "    <tr>\n",
       "      <th>846</th>\n",
       "      <td>1_0</td>\n",
       "      <td>31.82</td>\n",
       "      <td>1</td>\n",
       "    </tr>\n",
       "    <tr>\n",
       "      <th>1031</th>\n",
       "      <td>0_1318</td>\n",
       "      <td>20.92</td>\n",
       "      <td>0</td>\n",
       "    </tr>\n",
       "    <tr>\n",
       "      <th>1139</th>\n",
       "      <td>0_1800</td>\n",
       "      <td>22.05</td>\n",
       "      <td>0</td>\n",
       "    </tr>\n",
       "    <tr>\n",
       "      <th>1347</th>\n",
       "      <td>0_1645</td>\n",
       "      <td>2.99</td>\n",
       "      <td>0</td>\n",
       "    </tr>\n",
       "    <tr>\n",
       "      <th>1505</th>\n",
       "      <td>0_322</td>\n",
       "      <td>2.99</td>\n",
       "      <td>0</td>\n",
       "    </tr>\n",
       "    <tr>\n",
       "      <th>1530</th>\n",
       "      <td>0_1620</td>\n",
       "      <td>0.80</td>\n",
       "      <td>0</td>\n",
       "    </tr>\n",
       "    <tr>\n",
       "      <th>1543</th>\n",
       "      <td>0_1025</td>\n",
       "      <td>24.99</td>\n",
       "      <td>0</td>\n",
       "    </tr>\n",
       "    <tr>\n",
       "      <th>1709</th>\n",
       "      <td>2_87</td>\n",
       "      <td>220.99</td>\n",
       "      <td>2</td>\n",
       "    </tr>\n",
       "    <tr>\n",
       "      <th>1863</th>\n",
       "      <td>1_394</td>\n",
       "      <td>39.73</td>\n",
       "      <td>1</td>\n",
       "    </tr>\n",
       "    <tr>\n",
       "      <th>1946</th>\n",
       "      <td>2_72</td>\n",
       "      <td>141.32</td>\n",
       "      <td>2</td>\n",
       "    </tr>\n",
       "    <tr>\n",
       "      <th>2215</th>\n",
       "      <td>0_310</td>\n",
       "      <td>1.94</td>\n",
       "      <td>0</td>\n",
       "    </tr>\n",
       "    <tr>\n",
       "      <th>2408</th>\n",
       "      <td>0_1624</td>\n",
       "      <td>24.50</td>\n",
       "      <td>0</td>\n",
       "    </tr>\n",
       "    <tr>\n",
       "      <th>2458</th>\n",
       "      <td>0_525</td>\n",
       "      <td>2.99</td>\n",
       "      <td>0</td>\n",
       "    </tr>\n",
       "    <tr>\n",
       "      <th>2525</th>\n",
       "      <td>2_86</td>\n",
       "      <td>132.36</td>\n",
       "      <td>2</td>\n",
       "    </tr>\n",
       "    <tr>\n",
       "      <th>2690</th>\n",
       "      <td>0_299</td>\n",
       "      <td>22.99</td>\n",
       "      <td>0</td>\n",
       "    </tr>\n",
       "    <tr>\n",
       "      <th>3031</th>\n",
       "      <td>0_510</td>\n",
       "      <td>23.66</td>\n",
       "      <td>0</td>\n",
       "    </tr>\n",
       "    <tr>\n",
       "      <th>3096</th>\n",
       "      <td>0_2308</td>\n",
       "      <td>20.28</td>\n",
       "      <td>0</td>\n",
       "    </tr>\n",
       "  </tbody>\n",
       "</table>\n",
       "</div>"
      ],
      "text/plain": [
       "     id_prod   price  categ\n",
       "184   0_1016   35.06      0\n",
       "279   0_1780    1.67      0\n",
       "731      T_0   -1.00      0\n",
       "737   0_1062   20.08      0\n",
       "794   0_1119    2.99      0\n",
       "811   0_1014    1.15      0\n",
       "846      1_0   31.82      1\n",
       "1031  0_1318   20.92      0\n",
       "1139  0_1800   22.05      0\n",
       "1347  0_1645    2.99      0\n",
       "1505   0_322    2.99      0\n",
       "1530  0_1620    0.80      0\n",
       "1543  0_1025   24.99      0\n",
       "1709    2_87  220.99      2\n",
       "1863   1_394   39.73      1\n",
       "1946    2_72  141.32      2\n",
       "2215   0_310    1.94      0\n",
       "2408  0_1624   24.50      0\n",
       "2458   0_525    2.99      0\n",
       "2525    2_86  132.36      2\n",
       "2690   0_299   22.99      0\n",
       "3031   0_510   23.66      0\n",
       "3096  0_2308   20.28      0"
      ]
     },
     "execution_count": 24,
     "metadata": {},
     "output_type": "execute_result"
    }
   ],
   "source": [
    "#on recrée un df mais en limitant aux sessions en surplus avec .isin()\n",
    "products[products.id_prod.isin(id_prod_p.copy())]"
   ]
  },
  {
   "cell_type": "markdown",
   "metadata": {},
   "source": [
    "#### *Sauf le produit 'T_0', Ces lignes ne semblent pas suspectes*"
   ]
  },
  {
   "cell_type": "code",
   "execution_count": 25,
   "metadata": {},
   "outputs": [
    {
     "data": {
      "text/html": [
       "<div>\n",
       "<style scoped>\n",
       "    .dataframe tbody tr th:only-of-type {\n",
       "        vertical-align: middle;\n",
       "    }\n",
       "\n",
       "    .dataframe tbody tr th {\n",
       "        vertical-align: top;\n",
       "    }\n",
       "\n",
       "    .dataframe thead th {\n",
       "        text-align: right;\n",
       "    }\n",
       "</style>\n",
       "<table border=\"1\" class=\"dataframe\">\n",
       "  <thead>\n",
       "    <tr style=\"text-align: right;\">\n",
       "      <th></th>\n",
       "      <th>id_prod</th>\n",
       "      <th>price</th>\n",
       "      <th>categ</th>\n",
       "    </tr>\n",
       "  </thead>\n",
       "  <tbody>\n",
       "  </tbody>\n",
       "</table>\n",
       "</div>"
      ],
      "text/plain": [
       "Empty DataFrame\n",
       "Columns: [id_prod, price, categ]\n",
       "Index: []"
      ]
     },
     "execution_count": 25,
     "metadata": {},
     "output_type": "execute_result"
    }
   ],
   "source": [
    "# on drop le produit 'T_0'\n",
    "products.drop(products[products['id_prod'] == 'T_0' ].index, inplace = True)\n",
    "#test du drop : OK\n",
    "products.loc[products['price'] < 0, :]"
   ]
  },
  {
   "cell_type": "code",
   "execution_count": 26,
   "metadata": {},
   "outputs": [
    {
     "data": {
      "text/plain": [
       "(1, array(['0_2245'], dtype=object))"
      ]
     },
     "execution_count": 26,
     "metadata": {},
     "output_type": "execute_result"
    }
   ],
   "source": [
    "#dans le sens inverse :\n",
    "#quels id_prod de transactions.id_prod de sont PAS dans produits.id_prod?\n",
    "id_tran_P = np.setdiff1d(transactions.id_prod.unique(),products.id_prod.unique())\n",
    "#produit '0_2245' est l'objet de transactions mais pas dans table 'products'\n",
    "len(id_tran_P), id_tran_P"
   ]
  },
  {
   "cell_type": "markdown",
   "metadata": {},
   "source": [
    "#### => Cela pose un problème car si ce produit n'est pas dans la table 'products', quel est son prix?"
   ]
  },
  {
   "cell_type": "markdown",
   "metadata": {},
   "source": [
    "#### 1.2.1 Join 'left' entre 'transactions' et 'products' (on integre que les produits faisant l'objet de transactions"
   ]
  },
  {
   "cell_type": "code",
   "execution_count": 27,
   "metadata": {},
   "outputs": [
    {
     "data": {
      "text/html": [
       "<div>\n",
       "<style scoped>\n",
       "    .dataframe tbody tr th:only-of-type {\n",
       "        vertical-align: middle;\n",
       "    }\n",
       "\n",
       "    .dataframe tbody tr th {\n",
       "        vertical-align: top;\n",
       "    }\n",
       "\n",
       "    .dataframe thead th {\n",
       "        text-align: right;\n",
       "    }\n",
       "</style>\n",
       "<table border=\"1\" class=\"dataframe\">\n",
       "  <thead>\n",
       "    <tr style=\"text-align: right;\">\n",
       "      <th></th>\n",
       "      <th>id_prod</th>\n",
       "      <th>session_id</th>\n",
       "      <th>price</th>\n",
       "      <th>categ</th>\n",
       "    </tr>\n",
       "  </thead>\n",
       "  <tbody>\n",
       "    <tr>\n",
       "      <th>0</th>\n",
       "      <td>0_1483</td>\n",
       "      <td>s_18746</td>\n",
       "      <td>4.99</td>\n",
       "      <td>0.0</td>\n",
       "    </tr>\n",
       "    <tr>\n",
       "      <th>1</th>\n",
       "      <td>2_226</td>\n",
       "      <td>s_159142</td>\n",
       "      <td>65.75</td>\n",
       "      <td>2.0</td>\n",
       "    </tr>\n",
       "    <tr>\n",
       "      <th>2</th>\n",
       "      <td>1_374</td>\n",
       "      <td>s_94290</td>\n",
       "      <td>10.71</td>\n",
       "      <td>1.0</td>\n",
       "    </tr>\n",
       "    <tr>\n",
       "      <th>3</th>\n",
       "      <td>0_2186</td>\n",
       "      <td>s_105936</td>\n",
       "      <td>4.20</td>\n",
       "      <td>0.0</td>\n",
       "    </tr>\n",
       "    <tr>\n",
       "      <th>4</th>\n",
       "      <td>0_1351</td>\n",
       "      <td>s_63642</td>\n",
       "      <td>8.99</td>\n",
       "      <td>0.0</td>\n",
       "    </tr>\n",
       "  </tbody>\n",
       "</table>\n",
       "</div>"
      ],
      "text/plain": [
       "  id_prod session_id  price  categ\n",
       "0  0_1483    s_18746   4.99    0.0\n",
       "1   2_226   s_159142  65.75    2.0\n",
       "2   1_374    s_94290  10.71    1.0\n",
       "3  0_2186   s_105936   4.20    0.0\n",
       "4  0_1351    s_63642   8.99    0.0"
      ]
     },
     "execution_count": 27,
     "metadata": {},
     "output_type": "execute_result"
    }
   ],
   "source": [
    "#DataFrame.join(other, on=None, how='left', lsuffix='', rsuffix='', sort=False)\n",
    "trade_p = pd.merge(transactions[['id_prod', 'session_id']], \n",
    "                              products[['id_prod', 'price', 'categ']], \n",
    "                              on = 'id_prod', \n",
    "                              how = 'left'\n",
    "                             )\n",
    "trade_p.head()"
   ]
  },
  {
   "cell_type": "code",
   "execution_count": 28,
   "metadata": {},
   "outputs": [
    {
     "data": {
      "text/html": [
       "<div>\n",
       "<style scoped>\n",
       "    .dataframe tbody tr th:only-of-type {\n",
       "        vertical-align: middle;\n",
       "    }\n",
       "\n",
       "    .dataframe tbody tr th {\n",
       "        vertical-align: top;\n",
       "    }\n",
       "\n",
       "    .dataframe thead th {\n",
       "        text-align: right;\n",
       "    }\n",
       "</style>\n",
       "<table border=\"1\" class=\"dataframe\">\n",
       "  <thead>\n",
       "    <tr style=\"text-align: right;\">\n",
       "      <th></th>\n",
       "      <th>id_prod</th>\n",
       "      <th>session_id</th>\n",
       "      <th>price</th>\n",
       "      <th>categ</th>\n",
       "    </tr>\n",
       "  </thead>\n",
       "  <tbody>\n",
       "    <tr>\n",
       "      <th>6231</th>\n",
       "      <td>0_2245</td>\n",
       "      <td>s_49705</td>\n",
       "      <td>NaN</td>\n",
       "      <td>NaN</td>\n",
       "    </tr>\n",
       "    <tr>\n",
       "      <th>10797</th>\n",
       "      <td>0_2245</td>\n",
       "      <td>s_49323</td>\n",
       "      <td>NaN</td>\n",
       "      <td>NaN</td>\n",
       "    </tr>\n",
       "    <tr>\n",
       "      <th>14045</th>\n",
       "      <td>0_2245</td>\n",
       "      <td>s_124474</td>\n",
       "      <td>NaN</td>\n",
       "      <td>NaN</td>\n",
       "    </tr>\n",
       "    <tr>\n",
       "      <th>17480</th>\n",
       "      <td>0_2245</td>\n",
       "      <td>s_172304</td>\n",
       "      <td>NaN</td>\n",
       "      <td>NaN</td>\n",
       "    </tr>\n",
       "    <tr>\n",
       "      <th>21071</th>\n",
       "      <td>0_2245</td>\n",
       "      <td>s_3</td>\n",
       "      <td>NaN</td>\n",
       "      <td>NaN</td>\n",
       "    </tr>\n",
       "    <tr>\n",
       "      <th>...</th>\n",
       "      <td>...</td>\n",
       "      <td>...</td>\n",
       "      <td>...</td>\n",
       "      <td>...</td>\n",
       "    </tr>\n",
       "    <tr>\n",
       "      <th>322523</th>\n",
       "      <td>0_2245</td>\n",
       "      <td>s_16936</td>\n",
       "      <td>NaN</td>\n",
       "      <td>NaN</td>\n",
       "    </tr>\n",
       "    <tr>\n",
       "      <th>329226</th>\n",
       "      <td>0_2245</td>\n",
       "      <td>s_13738</td>\n",
       "      <td>NaN</td>\n",
       "      <td>NaN</td>\n",
       "    </tr>\n",
       "    <tr>\n",
       "      <th>330297</th>\n",
       "      <td>0_2245</td>\n",
       "      <td>s_128815</td>\n",
       "      <td>NaN</td>\n",
       "      <td>NaN</td>\n",
       "    </tr>\n",
       "    <tr>\n",
       "      <th>335331</th>\n",
       "      <td>0_2245</td>\n",
       "      <td>s_26624</td>\n",
       "      <td>NaN</td>\n",
       "      <td>NaN</td>\n",
       "    </tr>\n",
       "    <tr>\n",
       "      <th>336020</th>\n",
       "      <td>0_2245</td>\n",
       "      <td>s_28235</td>\n",
       "      <td>NaN</td>\n",
       "      <td>NaN</td>\n",
       "    </tr>\n",
       "  </tbody>\n",
       "</table>\n",
       "<p>103 rows × 4 columns</p>\n",
       "</div>"
      ],
      "text/plain": [
       "       id_prod session_id  price  categ\n",
       "6231    0_2245    s_49705    NaN    NaN\n",
       "10797   0_2245    s_49323    NaN    NaN\n",
       "14045   0_2245   s_124474    NaN    NaN\n",
       "17480   0_2245   s_172304    NaN    NaN\n",
       "21071   0_2245        s_3    NaN    NaN\n",
       "...        ...        ...    ...    ...\n",
       "322523  0_2245    s_16936    NaN    NaN\n",
       "329226  0_2245    s_13738    NaN    NaN\n",
       "330297  0_2245   s_128815    NaN    NaN\n",
       "335331  0_2245    s_26624    NaN    NaN\n",
       "336020  0_2245    s_28235    NaN    NaN\n",
       "\n",
       "[103 rows x 4 columns]"
      ]
     },
     "execution_count": 28,
     "metadata": {},
     "output_type": "execute_result"
    }
   ],
   "source": [
    "trade_p.loc[trade_p['price'].isnull()]"
   ]
  },
  {
   "cell_type": "code",
   "execution_count": 29,
   "metadata": {},
   "outputs": [
    {
     "data": {
      "text/html": [
       "<div>\n",
       "<style scoped>\n",
       "    .dataframe tbody tr th:only-of-type {\n",
       "        vertical-align: middle;\n",
       "    }\n",
       "\n",
       "    .dataframe tbody tr th {\n",
       "        vertical-align: top;\n",
       "    }\n",
       "\n",
       "    .dataframe thead th {\n",
       "        text-align: right;\n",
       "    }\n",
       "</style>\n",
       "<table border=\"1\" class=\"dataframe\">\n",
       "  <thead>\n",
       "    <tr style=\"text-align: right;\">\n",
       "      <th></th>\n",
       "      <th>id_prod</th>\n",
       "      <th>session_id</th>\n",
       "      <th>price</th>\n",
       "      <th>categ</th>\n",
       "    </tr>\n",
       "  </thead>\n",
       "  <tbody>\n",
       "    <tr>\n",
       "      <th>6231</th>\n",
       "      <td>0_2245</td>\n",
       "      <td>s_49705</td>\n",
       "      <td>NaN</td>\n",
       "      <td>NaN</td>\n",
       "    </tr>\n",
       "    <tr>\n",
       "      <th>10797</th>\n",
       "      <td>0_2245</td>\n",
       "      <td>s_49323</td>\n",
       "      <td>NaN</td>\n",
       "      <td>NaN</td>\n",
       "    </tr>\n",
       "    <tr>\n",
       "      <th>14045</th>\n",
       "      <td>0_2245</td>\n",
       "      <td>s_124474</td>\n",
       "      <td>NaN</td>\n",
       "      <td>NaN</td>\n",
       "    </tr>\n",
       "    <tr>\n",
       "      <th>17480</th>\n",
       "      <td>0_2245</td>\n",
       "      <td>s_172304</td>\n",
       "      <td>NaN</td>\n",
       "      <td>NaN</td>\n",
       "    </tr>\n",
       "    <tr>\n",
       "      <th>21071</th>\n",
       "      <td>0_2245</td>\n",
       "      <td>s_3</td>\n",
       "      <td>NaN</td>\n",
       "      <td>NaN</td>\n",
       "    </tr>\n",
       "  </tbody>\n",
       "</table>\n",
       "</div>"
      ],
      "text/plain": [
       "      id_prod session_id  price  categ\n",
       "6231   0_2245    s_49705    NaN    NaN\n",
       "10797  0_2245    s_49323    NaN    NaN\n",
       "14045  0_2245   s_124474    NaN    NaN\n",
       "17480  0_2245   s_172304    NaN    NaN\n",
       "21071  0_2245        s_3    NaN    NaN"
      ]
     },
     "execution_count": 29,
     "metadata": {},
     "output_type": "execute_result"
    }
   ],
   "source": [
    "#transactions sans prix : on rq pattern possible : toutes dues à '0_2245'?\n",
    "trade_p.loc[trade_p['price'].isnull(), :].head()"
   ]
  },
  {
   "cell_type": "code",
   "execution_count": 30,
   "metadata": {},
   "outputs": [
    {
     "data": {
      "text/plain": [
       "array(['0_2245'], dtype=object)"
      ]
     },
     "execution_count": 30,
     "metadata": {},
     "output_type": "execute_result"
    }
   ],
   "source": [
    "#transactions sans prix : toutes dues au produit '0_2245'\n",
    "trade_p.loc[trade_p['price'].isnull(), :]['id_prod'].unique()"
   ]
  },
  {
   "cell_type": "code",
   "execution_count": 31,
   "metadata": {},
   "outputs": [
    {
     "data": {
      "text/plain": [
       "array(['0_2245'], dtype=object)"
      ]
     },
     "execution_count": 31,
     "metadata": {},
     "output_type": "execute_result"
    }
   ],
   "source": [
    "#transactions sans categ : toutes dues au produit '0_2245'\n",
    "trade_p.loc[trade_p['categ'].isnull(), :]['id_prod'].unique()"
   ]
  },
  {
   "cell_type": "code",
   "execution_count": 32,
   "metadata": {},
   "outputs": [
    {
     "data": {
      "text/plain": [
       "array([nan])"
      ]
     },
     "execution_count": 32,
     "metadata": {},
     "output_type": "execute_result"
    }
   ],
   "source": [
    "#transactions sans prix : toutes dues au produit dt 'categ' est NaN\n",
    "trade_p.loc[trade_p['price'].isnull(), :]['categ'].unique()"
   ]
  },
  {
   "cell_type": "markdown",
   "metadata": {},
   "source": [
    "### =>*transactions sans prix : toutes dues au produit '0_2245'*.  Elles n'ont pas de 'categ' mais les différentes analyses du dataset semblent montrer le *pattern : la categorie des produits est indiquée dans id_prod*"
   ]
  },
  {
   "cell_type": "markdown",
   "metadata": {},
   "source": [
    "#### 1.2.2 On montre que categorie des produits est indiquée dans 'id_prod':"
   ]
  },
  {
   "cell_type": "code",
   "execution_count": 33,
   "metadata": {},
   "outputs": [],
   "source": [
    "#On extrait le premier élément de 'id_prod' dans une nouvelle variable\n",
    "trade_p['categ_2'] = trade_p['id_prod'].str[0]\n",
    "#On convertit le format de manière à pouvoir comparer le premier élément de 'id_prod' avec la catégorie\n",
    "trade_p['categ_2'] = pd.to_numeric(trade_p['categ_2'])"
   ]
  },
  {
   "cell_type": "code",
   "execution_count": 34,
   "metadata": {},
   "outputs": [
    {
     "data": {
      "text/html": [
       "<div>\n",
       "<style scoped>\n",
       "    .dataframe tbody tr th:only-of-type {\n",
       "        vertical-align: middle;\n",
       "    }\n",
       "\n",
       "    .dataframe tbody tr th {\n",
       "        vertical-align: top;\n",
       "    }\n",
       "\n",
       "    .dataframe thead th {\n",
       "        text-align: right;\n",
       "    }\n",
       "</style>\n",
       "<table border=\"1\" class=\"dataframe\">\n",
       "  <thead>\n",
       "    <tr style=\"text-align: right;\">\n",
       "      <th></th>\n",
       "      <th>categ_2</th>\n",
       "      <th>categ</th>\n",
       "    </tr>\n",
       "  </thead>\n",
       "  <tbody>\n",
       "    <tr>\n",
       "      <th>288195</th>\n",
       "      <td>1</td>\n",
       "      <td>1.0</td>\n",
       "    </tr>\n",
       "    <tr>\n",
       "      <th>247551</th>\n",
       "      <td>1</td>\n",
       "      <td>1.0</td>\n",
       "    </tr>\n",
       "    <tr>\n",
       "      <th>277691</th>\n",
       "      <td>0</td>\n",
       "      <td>0.0</td>\n",
       "    </tr>\n",
       "    <tr>\n",
       "      <th>321821</th>\n",
       "      <td>1</td>\n",
       "      <td>1.0</td>\n",
       "    </tr>\n",
       "    <tr>\n",
       "      <th>120835</th>\n",
       "      <td>0</td>\n",
       "      <td>0.0</td>\n",
       "    </tr>\n",
       "    <tr>\n",
       "      <th>20955</th>\n",
       "      <td>0</td>\n",
       "      <td>0.0</td>\n",
       "    </tr>\n",
       "    <tr>\n",
       "      <th>316771</th>\n",
       "      <td>1</td>\n",
       "      <td>1.0</td>\n",
       "    </tr>\n",
       "    <tr>\n",
       "      <th>278397</th>\n",
       "      <td>2</td>\n",
       "      <td>2.0</td>\n",
       "    </tr>\n",
       "    <tr>\n",
       "      <th>311092</th>\n",
       "      <td>0</td>\n",
       "      <td>0.0</td>\n",
       "    </tr>\n",
       "    <tr>\n",
       "      <th>256907</th>\n",
       "      <td>0</td>\n",
       "      <td>0.0</td>\n",
       "    </tr>\n",
       "  </tbody>\n",
       "</table>\n",
       "</div>"
      ],
      "text/plain": [
       "        categ_2  categ\n",
       "288195        1    1.0\n",
       "247551        1    1.0\n",
       "277691        0    0.0\n",
       "321821        1    1.0\n",
       "120835        0    0.0\n",
       "20955         0    0.0\n",
       "316771        1    1.0\n",
       "278397        2    2.0\n",
       "311092        0    0.0\n",
       "256907        0    0.0"
      ]
     },
     "execution_count": 34,
     "metadata": {},
     "output_type": "execute_result"
    }
   ],
   "source": [
    "#On observe par sondage aléatoire pour détecter si la méthode va dans le bon sens : OK\n",
    "trade_p[['categ_2', 'categ']].sample(10)"
   ]
  },
  {
   "cell_type": "code",
   "execution_count": 35,
   "metadata": {},
   "outputs": [
    {
     "data": {
      "text/plain": [
       "(array([0, 2, 1]), array([ 0.,  2.,  1., nan]))"
      ]
     },
     "execution_count": 35,
     "metadata": {},
     "output_type": "execute_result"
    }
   ],
   "source": [
    "#On observe les modalités de la nouvelle variable et on compare avec 'categ'\n",
    "trade_p['categ_2'].unique(), trade_p['categ'].unique()"
   ]
  },
  {
   "cell_type": "markdown",
   "metadata": {},
   "source": [
    "### =>On montre que récupérer le 1er caractère de 'id_prod' permetterait de corriger les NaN du dataset originel"
   ]
  },
  {
   "cell_type": "code",
   "execution_count": 36,
   "metadata": {},
   "outputs": [
    {
     "data": {
      "text/plain": [
       "array([0])"
      ]
     },
     "execution_count": 36,
     "metadata": {},
     "output_type": "execute_result"
    }
   ],
   "source": [
    "#categorie récupérée de produit '0_2245' : la catégorie 0\n",
    "trade_p.loc[trade_p['id_prod'] == '0_2245', :]['categ_2'].unique()"
   ]
  },
  {
   "cell_type": "markdown",
   "metadata": {},
   "source": [
    "#### On va imputer le prix moyen des prix de catégorie 0 pour prix du produit '0_2245' dans la table produits, après avoir fait un join dont la table servira à l'analyse ultérieure"
   ]
  },
  {
   "cell_type": "code",
   "execution_count": null,
   "metadata": {},
   "outputs": [],
   "source": []
  },
  {
   "cell_type": "code",
   "execution_count": null,
   "metadata": {},
   "outputs": [],
   "source": []
  },
  {
   "cell_type": "code",
   "execution_count": null,
   "metadata": {},
   "outputs": [],
   "source": []
  },
  {
   "cell_type": "markdown",
   "metadata": {},
   "source": [
    "### Problème du temps table transactions"
   ]
  },
  {
   "cell_type": "code",
   "execution_count": 37,
   "metadata": {},
   "outputs": [
    {
     "name": "stdout",
     "output_type": "stream",
     "text": [
      "<class 'pandas.core.frame.DataFrame'>\n",
      "Int64Index: 336816 entries, 0 to 337015\n",
      "Data columns (total 4 columns):\n",
      " #   Column      Non-Null Count   Dtype \n",
      "---  ------      --------------   ----- \n",
      " 0   id_prod     336816 non-null  object\n",
      " 1   date        336816 non-null  object\n",
      " 2   session_id  336816 non-null  object\n",
      " 3   client_id   336816 non-null  object\n",
      "dtypes: object(4)\n",
      "memory usage: 12.8+ MB\n"
     ]
    }
   ],
   "source": [
    "transactions.info()"
   ]
  },
  {
   "cell_type": "code",
   "execution_count": 38,
   "metadata": {},
   "outputs": [],
   "source": [
    "#on sépare les colonnes date et time\n",
    "transactions[['date','time']] = transactions.date.str.split(\" \",expand=True,)"
   ]
  },
  {
   "cell_type": "code",
   "execution_count": 39,
   "metadata": {},
   "outputs": [
    {
     "name": "stdout",
     "output_type": "stream",
     "text": [
      "<class 'pandas.core.frame.DataFrame'>\n",
      "Int64Index: 336816 entries, 0 to 337015\n",
      "Data columns (total 5 columns):\n",
      " #   Column      Non-Null Count   Dtype \n",
      "---  ------      --------------   ----- \n",
      " 0   id_prod     336816 non-null  object\n",
      " 1   date        336816 non-null  object\n",
      " 2   session_id  336816 non-null  object\n",
      " 3   client_id   336816 non-null  object\n",
      " 4   time        336816 non-null  object\n",
      "dtypes: object(5)\n",
      "memory usage: 15.4+ MB\n"
     ]
    }
   ],
   "source": [
    "#on taille colonne 'time'\n",
    "transactions['time'] = transactions['time'].str[:-7]\n",
    "transactions.info()"
   ]
  },
  {
   "cell_type": "code",
   "execution_count": 40,
   "metadata": {},
   "outputs": [
    {
     "data": {
      "text/plain": [
       "0   2021-04-10\n",
       "1   2022-02-03\n",
       "2   2021-09-23\n",
       "3   2021-10-17\n",
       "4   2021-07-17\n",
       "Name: date, dtype: datetime64[ns]"
      ]
     },
     "execution_count": 40,
     "metadata": {},
     "output_type": "execute_result"
    }
   ],
   "source": [
    "transactions['date'] = pd.to_datetime(transactions['date'], \n",
    "                                        format='%Y-%m-%d',\n",
    "                                     infer_datetime_format=True, \n",
    "                                     errors='coerce')\n",
    "transactions['date'].head()"
   ]
  },
  {
   "cell_type": "code",
   "execution_count": 41,
   "metadata": {},
   "outputs": [],
   "source": [
    "transactions['year'] = transactions['date'].dt.year"
   ]
  },
  {
   "cell_type": "code",
   "execution_count": 42,
   "metadata": {},
   "outputs": [],
   "source": [
    "#créa colonne 'month' dans df global_trades\n",
    "transactions['month'] = transactions['date'].dt.month"
   ]
  },
  {
   "cell_type": "code",
   "execution_count": 43,
   "metadata": {},
   "outputs": [],
   "source": [
    "#crea colonne 'hour'\n",
    "transactions['hour'] = pd.to_numeric(transactions['time'].str[:2])"
   ]
  },
  {
   "cell_type": "code",
   "execution_count": 44,
   "metadata": {},
   "outputs": [
    {
     "data": {
      "text/html": [
       "<div>\n",
       "<style scoped>\n",
       "    .dataframe tbody tr th:only-of-type {\n",
       "        vertical-align: middle;\n",
       "    }\n",
       "\n",
       "    .dataframe tbody tr th {\n",
       "        vertical-align: top;\n",
       "    }\n",
       "\n",
       "    .dataframe thead th {\n",
       "        text-align: right;\n",
       "    }\n",
       "</style>\n",
       "<table border=\"1\" class=\"dataframe\">\n",
       "  <thead>\n",
       "    <tr style=\"text-align: right;\">\n",
       "      <th></th>\n",
       "      <th>id_prod</th>\n",
       "      <th>date</th>\n",
       "      <th>session_id</th>\n",
       "      <th>client_id</th>\n",
       "      <th>time</th>\n",
       "      <th>year</th>\n",
       "      <th>month</th>\n",
       "      <th>hour</th>\n",
       "      <th>price</th>\n",
       "      <th>categ</th>\n",
       "    </tr>\n",
       "  </thead>\n",
       "  <tbody>\n",
       "    <tr>\n",
       "      <th>0</th>\n",
       "      <td>0_1483</td>\n",
       "      <td>2021-04-10</td>\n",
       "      <td>s_18746</td>\n",
       "      <td>c_4450</td>\n",
       "      <td>18:37:28</td>\n",
       "      <td>2021</td>\n",
       "      <td>4</td>\n",
       "      <td>18</td>\n",
       "      <td>4.99</td>\n",
       "      <td>0.0</td>\n",
       "    </tr>\n",
       "    <tr>\n",
       "      <th>1</th>\n",
       "      <td>2_226</td>\n",
       "      <td>2022-02-03</td>\n",
       "      <td>s_159142</td>\n",
       "      <td>c_277</td>\n",
       "      <td>01:55:53</td>\n",
       "      <td>2022</td>\n",
       "      <td>2</td>\n",
       "      <td>1</td>\n",
       "      <td>65.75</td>\n",
       "      <td>2.0</td>\n",
       "    </tr>\n",
       "    <tr>\n",
       "      <th>2</th>\n",
       "      <td>1_374</td>\n",
       "      <td>2021-09-23</td>\n",
       "      <td>s_94290</td>\n",
       "      <td>c_4270</td>\n",
       "      <td>15:13:46</td>\n",
       "      <td>2021</td>\n",
       "      <td>9</td>\n",
       "      <td>15</td>\n",
       "      <td>10.71</td>\n",
       "      <td>1.0</td>\n",
       "    </tr>\n",
       "    <tr>\n",
       "      <th>3</th>\n",
       "      <td>0_2186</td>\n",
       "      <td>2021-10-17</td>\n",
       "      <td>s_105936</td>\n",
       "      <td>c_4597</td>\n",
       "      <td>03:27:18</td>\n",
       "      <td>2021</td>\n",
       "      <td>10</td>\n",
       "      <td>3</td>\n",
       "      <td>4.20</td>\n",
       "      <td>0.0</td>\n",
       "    </tr>\n",
       "    <tr>\n",
       "      <th>4</th>\n",
       "      <td>0_1351</td>\n",
       "      <td>2021-07-17</td>\n",
       "      <td>s_63642</td>\n",
       "      <td>c_1242</td>\n",
       "      <td>20:34:25</td>\n",
       "      <td>2021</td>\n",
       "      <td>7</td>\n",
       "      <td>20</td>\n",
       "      <td>8.99</td>\n",
       "      <td>0.0</td>\n",
       "    </tr>\n",
       "  </tbody>\n",
       "</table>\n",
       "</div>"
      ],
      "text/plain": [
       "  id_prod       date session_id client_id      time  year  month  hour  price  \\\n",
       "0  0_1483 2021-04-10    s_18746    c_4450  18:37:28  2021      4    18   4.99   \n",
       "1   2_226 2022-02-03   s_159142     c_277  01:55:53  2022      2     1  65.75   \n",
       "2   1_374 2021-09-23    s_94290    c_4270  15:13:46  2021      9    15  10.71   \n",
       "3  0_2186 2021-10-17   s_105936    c_4597  03:27:18  2021     10     3   4.20   \n",
       "4  0_1351 2021-07-17    s_63642    c_1242  20:34:25  2021      7    20   8.99   \n",
       "\n",
       "   categ  \n",
       "0    0.0  \n",
       "1    2.0  \n",
       "2    1.0  \n",
       "3    0.0  \n",
       "4    0.0  "
      ]
     },
     "execution_count": 44,
     "metadata": {},
     "output_type": "execute_result"
    }
   ],
   "source": [
    "#on integre dans la table resultante uniquement que les produits ayant fait l'objet de transactions\n",
    "trade_p2 = pd.merge(transactions, \n",
    "                              products, \n",
    "                              on = 'id_prod', \n",
    "                              how = 'left'\n",
    "                             )\n",
    "trade_p2.head()"
   ]
  },
  {
   "cell_type": "markdown",
   "metadata": {},
   "source": [
    "## Ici on impute le prix moyen des produits de catégorie 0 au produit 0_2245"
   ]
  },
  {
   "cell_type": "code",
   "execution_count": 45,
   "metadata": {},
   "outputs": [],
   "source": [
    "#On réutilise la méthode déjà utilisée plus en amont\n",
    "trade_p2['categ_2'] = trade_p2['id_prod'].str[0]\n",
    "trade_p2['categ_2'] = pd.to_numeric(trade_p2['categ_2'])"
   ]
  },
  {
   "cell_type": "code",
   "execution_count": 46,
   "metadata": {},
   "outputs": [
    {
     "data": {
      "text/plain": [
       "11.732794627383296"
      ]
     },
     "execution_count": 46,
     "metadata": {},
     "output_type": "execute_result"
    }
   ],
   "source": [
    "# prix moyen categ 0\n",
    "mean_categ = products.groupby('categ').mean()\n",
    "mean_categ.loc[(0), 'price']"
   ]
  },
  {
   "cell_type": "code",
   "execution_count": 47,
   "metadata": {},
   "outputs": [],
   "source": [
    "#On impute le prix moyen\n",
    "trade_p2.loc[trade_p['id_prod'] == '0_2245', 'price'] = mean_categ.loc[(0), 'price']"
   ]
  },
  {
   "cell_type": "code",
   "execution_count": 48,
   "metadata": {},
   "outputs": [
    {
     "data": {
      "text/plain": [
       "array([11.73279463])"
      ]
     },
     "execution_count": 48,
     "metadata": {},
     "output_type": "execute_result"
    }
   ],
   "source": [
    "#test : ok\n",
    "trade_p2.loc[trade_p['id_prod'] == '0_2245', 'price'].unique()"
   ]
  },
  {
   "cell_type": "code",
   "execution_count": 49,
   "metadata": {},
   "outputs": [
    {
     "data": {
      "text/plain": [
       "array([ True,  True,  True])"
      ]
     },
     "execution_count": 49,
     "metadata": {},
     "output_type": "execute_result"
    }
   ],
   "source": [
    "#On impute categorie 0 au produit '0_2245' dans l'ancienne colone 'categ' afin de tester et clore\n",
    "trade_p2.loc[trade_p['id_prod'] == '0_2245', 'categ'] = trade_p2.loc[trade_p['categ_2'] == 0, 'categ_2'].unique()\n",
    "#test : OK\n",
    "trade_p2['categ_2'].unique() == trade_p2['categ'].unique()"
   ]
  },
  {
   "cell_type": "code",
   "execution_count": 50,
   "metadata": {},
   "outputs": [
    {
     "data": {
      "text/plain": [
       "(array([ 0,  1,  2,  3,  4,  5,  6,  7,  8,  9, 10, 11]),\n",
       " <a list of 12 Text xticklabel objects>)"
      ]
     },
     "execution_count": 50,
     "metadata": {},
     "output_type": "execute_result"
    },
    {
     "data": {
      "image/png": "[encoded data removed]",
      "text/plain": [
       "<Figure size 432x288 with 1 Axes>"
      ]
     },
     "metadata": {
      "needs_background": "light"
     },
     "output_type": "display_data"
    }
   ],
   "source": [
    "#on aggrège en utilisant un dictionnaire\n",
    "year_df = trade_p2.groupby( by = ['year', 'month']).agg({'price':'sum'})\n",
    "year_df.plot(kind='bar')\n",
    "plt.xticks(rotation=80)"
   ]
  },
  {
   "cell_type": "markdown",
   "metadata": {},
   "source": [
    "### => il y a un problème en Octobre"
   ]
  },
  {
   "cell_type": "code",
   "execution_count": 51,
   "metadata": {},
   "outputs": [
    {
     "data": {
      "text/html": [
       "<div>\n",
       "<style scoped>\n",
       "    .dataframe tbody tr th:only-of-type {\n",
       "        vertical-align: middle;\n",
       "    }\n",
       "\n",
       "    .dataframe tbody tr th {\n",
       "        vertical-align: top;\n",
       "    }\n",
       "\n",
       "    .dataframe thead th {\n",
       "        text-align: right;\n",
       "    }\n",
       "</style>\n",
       "<table border=\"1\" class=\"dataframe\">\n",
       "  <thead>\n",
       "    <tr style=\"text-align: right;\">\n",
       "      <th></th>\n",
       "      <th></th>\n",
       "      <th></th>\n",
       "      <th>price</th>\n",
       "    </tr>\n",
       "    <tr>\n",
       "      <th>year</th>\n",
       "      <th>month</th>\n",
       "      <th>categ</th>\n",
       "      <th></th>\n",
       "    </tr>\n",
       "  </thead>\n",
       "  <tbody>\n",
       "    <tr>\n",
       "      <th rowspan=\"5\" valign=\"top\">2021</th>\n",
       "      <th rowspan=\"3\" valign=\"top\">3</th>\n",
       "      <th>0.0</th>\n",
       "      <td>193671.975152</td>\n",
       "    </tr>\n",
       "    <tr>\n",
       "      <th>1.0</th>\n",
       "      <td>186974.170000</td>\n",
       "    </tr>\n",
       "    <tr>\n",
       "      <th>2.0</th>\n",
       "      <td>98771.480000</td>\n",
       "    </tr>\n",
       "    <tr>\n",
       "      <th rowspan=\"2\" valign=\"top\">4</th>\n",
       "      <th>0.0</th>\n",
       "      <td>205323.929125</td>\n",
       "    </tr>\n",
       "    <tr>\n",
       "      <th>1.0</th>\n",
       "      <td>156138.350000</td>\n",
       "    </tr>\n",
       "  </tbody>\n",
       "</table>\n",
       "</div>"
      ],
      "text/plain": [
       "                          price\n",
       "year month categ               \n",
       "2021 3     0.0    193671.975152\n",
       "           1.0    186974.170000\n",
       "           2.0     98771.480000\n",
       "     4     0.0    205323.929125\n",
       "           1.0    156138.350000"
      ]
     },
     "execution_count": 51,
     "metadata": {},
     "output_type": "execute_result"
    }
   ],
   "source": [
    "#créa multi index pour séparer sous sommes selon categ\n",
    "month_df = trade_p2.groupby( by = ['year', 'month', 'categ']).agg({'price':'sum'})\n",
    "month_df.head()"
   ]
  },
  {
   "cell_type": "code",
   "execution_count": 52,
   "metadata": {},
   "outputs": [
    {
     "data": {
      "image/png": "[encoded data removed]",
      "text/plain": [
       "<Figure size 432x288 with 1 Axes>"
      ]
     },
     "metadata": {
      "needs_background": "light"
     },
     "output_type": "display_data"
    }
   ],
   "source": [
    "#On passe le 2ème élément du multi index en colonne avec df.unstack('var')\n",
    "month_unstacked = month_df.unstack('categ')\n",
    "#On plot\n",
    "month_unstacked.plot(kind = 'bar', stacked = True)\n",
    "plt.xticks(rotation=80)\n",
    "plt.title('evolution of total sales in time')\n",
    "#plt.savefig(\"sales_time.png\")\n",
    "plt.show()"
   ]
  },
  {
   "cell_type": "code",
   "execution_count": 53,
   "metadata": {},
   "outputs": [
    {
     "data": {
      "image/png": "[encoded data removed]",
      "text/plain": [
       "<Figure size 432x288 with 1 Axes>"
      ]
     },
     "metadata": {
      "needs_background": "light"
     },
     "output_type": "display_data"
    }
   ],
   "source": [
    "#on va zoomer sur le mois d'Octobre pour comprendre le problème\n",
    "zoom_oct = trade_p2[trade_p2['month'] == 10 ][['date', 'price', 'categ']].copy()\n",
    "zoom_oct['day'] = trade_p2['date'].dt.day\n",
    "#créa multi index pour séparer sous sommes selon categ\n",
    "day_df = zoom_oct.groupby( by = ['day', 'categ']).sum()[['price']]\n",
    "#on repasse les categ en colonnes\n",
    "day_unstacked = day_df.unstack('categ')\n",
    "#on appli la fonction .plot\n",
    "day_unstacked.plot(kind = 'bar', stacked = True)\n",
    "plt.title(\"October 2021 daily sales with product category weight\")\n",
    "plt.xticks(rotation=80)\n",
    "#plt.savefig(\"october_sales_time.png\")\n",
    "plt.show()"
   ]
  },
  {
   "cell_type": "markdown",
   "metadata": {},
   "source": [
    "**=> Il faut tenir compte de l'absence de données au mois d'Octobre. Le mois d'Octobre représente 1/12 du nombre de données. On envisage de drop les données d'Octobre (et garder un csv) pour notre analyse si le client le spécifiait mais dans cette analyse on le gardera car les données sont précieuses et Octobre représente 1/12 de la période de temps étudiée**"
   ]
  },
  {
   "cell_type": "code",
   "execution_count": 54,
   "metadata": {},
   "outputs": [],
   "source": [
    "#On garde les données d'Octobre dans un csv\n",
    "#octobre = trade_p2[trade_p2['month'] == 10].copy()\n",
    "#octobre.to_csv('trade_p2_Oct21.csv')\n",
    "#On drop le mois d'Octobre avec le script ci dessous si le client le spécifie\n",
    "trade_cut = trade_p2.drop(trade_p2[trade_p2['month'] == 10].index)"
   ]
  },
  {
   "cell_type": "markdown",
   "metadata": {},
   "source": [
    "### ***On créée une table globale : 'trades_pc'***"
   ]
  },
  {
   "cell_type": "code",
   "execution_count": 55,
   "metadata": {},
   "outputs": [],
   "source": [
    "#on ne garde que les clients qui ont fait des achats pdt la periode\n",
    "trades_pc = pd.merge(trade_p2, \n",
    "                              clients, \n",
    "                              on = 'client_id', \n",
    "                              how = 'left'\n",
    "                             )"
   ]
  },
  {
   "cell_type": "code",
   "execution_count": 56,
   "metadata": {},
   "outputs": [
    {
     "data": {
      "text/html": [
       "<div>\n",
       "<style scoped>\n",
       "    .dataframe tbody tr th:only-of-type {\n",
       "        vertical-align: middle;\n",
       "    }\n",
       "\n",
       "    .dataframe tbody tr th {\n",
       "        vertical-align: top;\n",
       "    }\n",
       "\n",
       "    .dataframe thead th {\n",
       "        text-align: right;\n",
       "    }\n",
       "</style>\n",
       "<table border=\"1\" class=\"dataframe\">\n",
       "  <thead>\n",
       "    <tr style=\"text-align: right;\">\n",
       "      <th></th>\n",
       "      <th>id_prod</th>\n",
       "      <th>date</th>\n",
       "      <th>session_id</th>\n",
       "      <th>client_id</th>\n",
       "      <th>time</th>\n",
       "      <th>year</th>\n",
       "      <th>month</th>\n",
       "      <th>hour</th>\n",
       "      <th>price</th>\n",
       "      <th>categ</th>\n",
       "      <th>categ_2</th>\n",
       "      <th>sex</th>\n",
       "      <th>birth</th>\n",
       "      <th>age</th>\n",
       "      <th>age_categ</th>\n",
       "    </tr>\n",
       "  </thead>\n",
       "  <tbody>\n",
       "  </tbody>\n",
       "</table>\n",
       "</div>"
      ],
      "text/plain": [
       "Empty DataFrame\n",
       "Columns: [id_prod, date, session_id, client_id, time, year, month, hour, price, categ, categ_2, sex, birth, age, age_categ]\n",
       "Index: []"
      ]
     },
     "execution_count": 56,
     "metadata": {},
     "output_type": "execute_result"
    }
   ],
   "source": [
    "trades_pc.loc[trades_pc['price'].isnull()]"
   ]
  },
  {
   "cell_type": "code",
   "execution_count": 57,
   "metadata": {},
   "outputs": [
    {
     "data": {
      "text/html": [
       "<div>\n",
       "<style scoped>\n",
       "    .dataframe tbody tr th:only-of-type {\n",
       "        vertical-align: middle;\n",
       "    }\n",
       "\n",
       "    .dataframe tbody tr th {\n",
       "        vertical-align: top;\n",
       "    }\n",
       "\n",
       "    .dataframe thead th {\n",
       "        text-align: right;\n",
       "    }\n",
       "</style>\n",
       "<table border=\"1\" class=\"dataframe\">\n",
       "  <thead>\n",
       "    <tr style=\"text-align: right;\">\n",
       "      <th></th>\n",
       "      <th>id_prod</th>\n",
       "      <th>date</th>\n",
       "      <th>session_id</th>\n",
       "      <th>client_id</th>\n",
       "      <th>time</th>\n",
       "      <th>year</th>\n",
       "      <th>month</th>\n",
       "      <th>hour</th>\n",
       "      <th>price</th>\n",
       "      <th>categ</th>\n",
       "      <th>categ_2</th>\n",
       "      <th>sex</th>\n",
       "      <th>birth</th>\n",
       "      <th>age</th>\n",
       "      <th>age_categ</th>\n",
       "    </tr>\n",
       "  </thead>\n",
       "  <tbody>\n",
       "    <tr>\n",
       "      <th>0</th>\n",
       "      <td>0_1483</td>\n",
       "      <td>2021-04-10</td>\n",
       "      <td>s_18746</td>\n",
       "      <td>c_4450</td>\n",
       "      <td>18:37:28</td>\n",
       "      <td>2021</td>\n",
       "      <td>4</td>\n",
       "      <td>18</td>\n",
       "      <td>4.99</td>\n",
       "      <td>0.0</td>\n",
       "      <td>0</td>\n",
       "      <td>f</td>\n",
       "      <td>1977</td>\n",
       "      <td>45</td>\n",
       "      <td>25-60</td>\n",
       "    </tr>\n",
       "    <tr>\n",
       "      <th>1</th>\n",
       "      <td>2_226</td>\n",
       "      <td>2022-02-03</td>\n",
       "      <td>s_159142</td>\n",
       "      <td>c_277</td>\n",
       "      <td>01:55:53</td>\n",
       "      <td>2022</td>\n",
       "      <td>2</td>\n",
       "      <td>1</td>\n",
       "      <td>65.75</td>\n",
       "      <td>2.0</td>\n",
       "      <td>2</td>\n",
       "      <td>f</td>\n",
       "      <td>2000</td>\n",
       "      <td>22</td>\n",
       "      <td>&lt;=25</td>\n",
       "    </tr>\n",
       "    <tr>\n",
       "      <th>2</th>\n",
       "      <td>1_374</td>\n",
       "      <td>2021-09-23</td>\n",
       "      <td>s_94290</td>\n",
       "      <td>c_4270</td>\n",
       "      <td>15:13:46</td>\n",
       "      <td>2021</td>\n",
       "      <td>9</td>\n",
       "      <td>15</td>\n",
       "      <td>10.71</td>\n",
       "      <td>1.0</td>\n",
       "      <td>1</td>\n",
       "      <td>f</td>\n",
       "      <td>1979</td>\n",
       "      <td>43</td>\n",
       "      <td>25-60</td>\n",
       "    </tr>\n",
       "    <tr>\n",
       "      <th>3</th>\n",
       "      <td>0_2186</td>\n",
       "      <td>2021-10-17</td>\n",
       "      <td>s_105936</td>\n",
       "      <td>c_4597</td>\n",
       "      <td>03:27:18</td>\n",
       "      <td>2021</td>\n",
       "      <td>10</td>\n",
       "      <td>3</td>\n",
       "      <td>4.20</td>\n",
       "      <td>0.0</td>\n",
       "      <td>0</td>\n",
       "      <td>m</td>\n",
       "      <td>1963</td>\n",
       "      <td>59</td>\n",
       "      <td>25-60</td>\n",
       "    </tr>\n",
       "    <tr>\n",
       "      <th>4</th>\n",
       "      <td>0_1351</td>\n",
       "      <td>2021-07-17</td>\n",
       "      <td>s_63642</td>\n",
       "      <td>c_1242</td>\n",
       "      <td>20:34:25</td>\n",
       "      <td>2021</td>\n",
       "      <td>7</td>\n",
       "      <td>20</td>\n",
       "      <td>8.99</td>\n",
       "      <td>0.0</td>\n",
       "      <td>0</td>\n",
       "      <td>f</td>\n",
       "      <td>1980</td>\n",
       "      <td>42</td>\n",
       "      <td>25-60</td>\n",
       "    </tr>\n",
       "  </tbody>\n",
       "</table>\n",
       "</div>"
      ],
      "text/plain": [
       "  id_prod       date session_id client_id      time  year  month  hour  price  \\\n",
       "0  0_1483 2021-04-10    s_18746    c_4450  18:37:28  2021      4    18   4.99   \n",
       "1   2_226 2022-02-03   s_159142     c_277  01:55:53  2022      2     1  65.75   \n",
       "2   1_374 2021-09-23    s_94290    c_4270  15:13:46  2021      9    15  10.71   \n",
       "3  0_2186 2021-10-17   s_105936    c_4597  03:27:18  2021     10     3   4.20   \n",
       "4  0_1351 2021-07-17    s_63642    c_1242  20:34:25  2021      7    20   8.99   \n",
       "\n",
       "   categ  categ_2 sex  birth  age age_categ  \n",
       "0    0.0        0   f   1977   45     25-60  \n",
       "1    2.0        2   f   2000   22      <=25  \n",
       "2    1.0        1   f   1979   43     25-60  \n",
       "3    0.0        0   m   1963   59     25-60  \n",
       "4    0.0        0   f   1980   42     25-60  "
      ]
     },
     "execution_count": 57,
     "metadata": {},
     "output_type": "execute_result"
    }
   ],
   "source": [
    "trades_pc.head()\n",
    "#trades_pc.to_csv('trades_clean.csv')"
   ]
  }
 ],
 "metadata": {
  "kernelspec": {
   "display_name": "Python 3",
   "language": "python",
   "name": "python3"
  },
  "language_info": {
   "codemirror_mode": {
    "name": "ipython",
    "version": 3
   },
   "file_extension": ".py",
   "mimetype": "text/x-python",
   "name": "python",
   "nbconvert_exporter": "python",
   "pygments_lexer": "ipython3",
   "version": "3.7.6"
  }
 },
 "nbformat": 4,
 "nbformat_minor": 4
}
